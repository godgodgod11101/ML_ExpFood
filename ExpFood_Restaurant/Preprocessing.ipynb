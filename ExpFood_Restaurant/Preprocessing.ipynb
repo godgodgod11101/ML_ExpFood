{
 "cells": [
  {
   "cell_type": "code",
   "execution_count": 1,
   "id": "f9b25d7b",
   "metadata": {},
   "outputs": [],
   "source": [
    "import numpy as np \n",
    "import pandas as pd\n",
    "from pandasgui import show"
   ]
  },
  {
   "cell_type": "markdown",
   "id": "5c4a49b1",
   "metadata": {},
   "source": [
    "### Data Import"
   ]
  },
  {
   "cell_type": "code",
   "execution_count": 2,
   "id": "c58559bb",
   "metadata": {},
   "outputs": [
    {
     "name": "stdout",
     "output_type": "stream",
     "text": [
      "dict_keys(['Factor', 'ExpCase', 'WebExpCase'])\n"
     ]
    }
   ],
   "source": [
    "dict_dfs_ori = pd.read_excel('data_ori.xlsx', sheet_name=None)    # get all worksheets\n",
    "print(dict_dfs_ori.keys())"
   ]
  },
  {
   "cell_type": "code",
   "execution_count": 3,
   "id": "395f8619",
   "metadata": {},
   "outputs": [],
   "source": [
    "# 違規案件稽查編號\n",
    "set_expSN = set(dict_dfs_ori['ExpCase']['稽查事件編號']) | set(dict_dfs_ori['WebExpCase']['稽查序號'])\n",
    "\n",
    "# 建立完整資料表，含 target, features, others\n",
    "df_ori = dict_dfs_ori['Factor'].copy()\n",
    "df_ori['target'] = df_ori['稽查事件編號'].isin(set_expSN).astype('int')    # indexing with isin"
   ]
  },
  {
   "cell_type": "code",
   "execution_count": 4,
   "id": "530edaa1",
   "metadata": {},
   "outputs": [],
   "source": [
    "del dict_dfs_ori, set_expSN"
   ]
  },
  {
   "cell_type": "markdown",
   "id": "ffda23f3",
   "metadata": {},
   "source": [
    "### Data Preprocess"
   ]
  },
  {
   "cell_type": "markdown",
   "id": "e04a0710",
   "metadata": {},
   "source": [
    "* 將資料縱切 3 份：目標(target)、特徵(features)、其它(others)"
   ]
  },
  {
   "cell_type": "code",
   "execution_count": 5,
   "id": "db945f8d",
   "metadata": {},
   "outputs": [
    {
     "name": "stdout",
     "output_type": "stream",
     "text": [
      "Index(['稽查事件編號', '營業縣市', '是否兼具製造業', '是否兼具輸入業', '是否兼具販售業', '是否兼具物流業', '餐飲業次業別數',\n",
      "       '上市上櫃', '網路銷售', '導入HACCP', '導入ISO22000', '來源流向管理', '投保責任險', '倉儲', '實驗室',\n",
      "       '標章分數', '資本額', '食添法規認知', '逾期食品法規認知', '有直營連鎖店', '有加盟連鎖店', '同一地址有多個餐飲場所',\n",
      "       '有餐飲場所且有工廠製造場所', '有餐飲場所且委託他廠代工', '美食平台', '有無專技人員', '場所型式', '場所規模',\n",
      "       '有無技術士證照', '有無供應學校', 'Group', 'target'],\n",
      "      dtype='object')\n"
     ]
    }
   ],
   "source": [
    "print(df_ori.columns)"
   ]
  },
  {
   "cell_type": "code",
   "execution_count": 6,
   "id": "22d7480a",
   "metadata": {},
   "outputs": [],
   "source": [
    "cols_notFeat = ['稽查事件編號', 'Group', 'target']\n",
    "\n",
    "ser_target = df_ori[cols_notFeat[-1]]\n",
    "df_features = df_ori.drop(cols_notFeat, axis=1)    # inplace = False (default), return a copy\n",
    "df_others = df_ori[cols_notFeat[:-1]]"
   ]
  },
  {
   "cell_type": "code",
   "execution_count": 7,
   "id": "4ecbe8ff",
   "metadata": {},
   "outputs": [],
   "source": [
    "del df_ori, cols_notFeat"
   ]
  },
  {
   "cell_type": "markdown",
   "id": "68f91d9f",
   "metadata": {},
   "source": [
    "* 檢視特徵有無缺失值\n",
    "    1. isna() （同 isnull() ）檢查資料表每一個值是否為缺失值，輸出 Dataframe\n",
    "    2. any(axis=0) 檢查每一欄是否有 True （ reduce the index ），輸出 Series\n",
    "    3. sum() 加總 Series"
   ]
  },
  {
   "cell_type": "code",
   "execution_count": 8,
   "id": "54496e5e",
   "metadata": {},
   "outputs": [
    {
     "name": "stdout",
     "output_type": "stream",
     "text": [
      "0\n"
     ]
    }
   ],
   "source": [
    "print(df_features.isna().any(axis=0).sum())"
   ]
  },
  {
   "cell_type": "markdown",
   "id": "56227bc0",
   "metadata": {},
   "source": [
    "* 特徵資料型別轉換"
   ]
  },
  {
   "cell_type": "code",
   "execution_count": null,
   "id": "77bd1b91",
   "metadata": {},
   "outputs": [],
   "source": [
    "# show(df_features.dtypes)"
   ]
  },
  {
   "cell_type": "code",
   "execution_count": null,
   "id": "ed88147c",
   "metadata": {},
   "outputs": [
    {
     "data": {
      "text/plain": [
       "餐飲業次業別數\n",
       "1    5752\n",
       "2     879\n",
       "3     166\n",
       "4      22\n",
       "6      17\n",
       "0      11\n",
       "5       9\n",
       "7       2\n",
       "Name: count, dtype: int64"
      ]
     },
     "execution_count": 13,
     "metadata": {},
     "output_type": "execute_result"
    }
   ],
   "source": []
  },
  {
   "cell_type": "code",
   "execution_count": null,
   "id": "1b193a32",
   "metadata": {},
   "outputs": [
    {
     "data": {
      "text/plain": [
       "['資本額']"
      ]
     },
     "execution_count": 14,
     "metadata": {},
     "output_type": "execute_result"
    }
   ],
   "source": [
    "\n",
    "cols_to_int = ['資本額', ]\n",
    "cols_to_cat = ['營業縣市', '場所型式', ]\n",
    "cols_to_ord = ['餐飲業次業別數', '標章分數', '場所規模', ]\n"
   ]
  }
 ],
 "metadata": {
  "kernelspec": {
   "display_name": "Python 3",
   "language": "python",
   "name": "python3"
  },
  "language_info": {
   "codemirror_mode": {
    "name": "ipython",
    "version": 3
   },
   "file_extension": ".py",
   "mimetype": "text/x-python",
   "name": "python",
   "nbconvert_exporter": "python",
   "pygments_lexer": "ipython3",
   "version": "3.11.5"
  }
 },
 "nbformat": 4,
 "nbformat_minor": 5
}
