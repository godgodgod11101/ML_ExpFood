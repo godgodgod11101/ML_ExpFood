{
 "cells": [
  {
   "cell_type": "code",
   "execution_count": 1,
   "id": "f9b25d7b",
   "metadata": {},
   "outputs": [],
   "source": [
    "import numpy as np \n",
    "import pandas as pd"
   ]
  },
  {
   "cell_type": "markdown",
   "id": "5c4a49b1",
   "metadata": {},
   "source": [
    "### Data Import"
   ]
  },
  {
   "cell_type": "code",
   "execution_count": 2,
   "id": "c58559bb",
   "metadata": {},
   "outputs": [
    {
     "name": "stdout",
     "output_type": "stream",
     "text": [
      "dict_keys(['Factor', 'ExpCase', 'WebExpCase'])\n"
     ]
    }
   ],
   "source": [
    "dict_dfs_ori = pd.read_excel('data_ori.xlsx', sheet_name=None)    # get all worksheets\n",
    "print(dict_dfs_ori.keys())"
   ]
  },
  {
   "cell_type": "code",
   "execution_count": 3,
   "id": "395f8619",
   "metadata": {},
   "outputs": [],
   "source": [
    "# 違規案件稽查編號\n",
    "set_expSN = set(dict_dfs_ori['ExpCase']['稽查事件編號']) | set(dict_dfs_ori['WebExpCase']['稽查序號'])\n",
    "\n",
    "# 建立完整資料表，含 target, features, others\n",
    "df_ori = dict_dfs_ori['Factor'].copy()\n",
    "df_ori['target'] = df_ori['稽查事件編號'].isin(set_expSN).astype('uint8')    # indexing with isin"
   ]
  },
  {
   "cell_type": "code",
   "execution_count": 4,
   "id": "530edaa1",
   "metadata": {},
   "outputs": [],
   "source": [
    "del dict_dfs_ori, set_expSN"
   ]
  },
  {
   "cell_type": "markdown",
   "id": "ffda23f3",
   "metadata": {},
   "source": [
    "### Data Preprocess"
   ]
  },
  {
   "cell_type": "markdown",
   "id": "e04a0710",
   "metadata": {},
   "source": [
    "* 將資料縱切 3 份：目標(target)、特徵(features)、其它(others)"
   ]
  },
  {
   "cell_type": "code",
   "execution_count": 5,
   "id": "db945f8d",
   "metadata": {},
   "outputs": [
    {
     "name": "stdout",
     "output_type": "stream",
     "text": [
      "Index(['稽查事件編號', '營業縣市', '是否兼具製造業', '是否兼具輸入業', '是否兼具販售業', '是否兼具物流業', '餐飲業次業別數',\n",
      "       '上市上櫃', '網路銷售', '導入HACCP', '導入ISO22000', '來源流向管理', '投保責任險', '倉儲', '實驗室',\n",
      "       '標章分數', '資本額', '食添法規認知', '逾期食品法規認知', '有直營連鎖店', '有加盟連鎖店', '同一地址有多個餐飲場所',\n",
      "       '有餐飲場所且有工廠製造場所', '有餐飲場所且委託他廠代工', '美食平台', '有無專技人員', '場所型式', '場所規模',\n",
      "       '有無技術士證照', '有無供應學校', 'Group', 'target'],\n",
      "      dtype='object')\n"
     ]
    }
   ],
   "source": [
    "print(df_ori.columns)"
   ]
  },
  {
   "cell_type": "code",
   "execution_count": 6,
   "id": "22d7480a",
   "metadata": {},
   "outputs": [],
   "source": [
    "cols_notFeat = ['稽查事件編號', 'Group', 'target']\n",
    "\n",
    "ser_target = df_ori[cols_notFeat[-1]]\n",
    "df_features = df_ori.drop(cols_notFeat, axis=1)    # inplace = False (default), return a copy\n",
    "df_others = df_ori[cols_notFeat[:-1]]"
   ]
  },
  {
   "cell_type": "code",
   "execution_count": 7,
   "id": "4ecbe8ff",
   "metadata": {},
   "outputs": [],
   "source": [
    "del df_ori, cols_notFeat"
   ]
  },
  {
   "cell_type": "markdown",
   "id": "68f91d9f",
   "metadata": {},
   "source": [
    "* 檢視特徵有無缺失值\n",
    "    1. isna() （同 isnull() ）檢查資料表每一個值是否為缺失值，輸出 Dataframe\n",
    "    2. any(axis=0) 檢查每一欄是否有 True （ reduce the index ），輸出 Series\n",
    "    3. sum() 加總 Series"
   ]
  },
  {
   "cell_type": "code",
   "execution_count": 8,
   "id": "54496e5e",
   "metadata": {},
   "outputs": [
    {
     "name": "stdout",
     "output_type": "stream",
     "text": [
      "0\n"
     ]
    }
   ],
   "source": [
    "print(df_features.isna().any(axis=0).sum())"
   ]
  },
  {
   "cell_type": "markdown",
   "id": "56227bc0",
   "metadata": {},
   "source": [
    "* 特徵資料型別轉換"
   ]
  },
  {
   "cell_type": "code",
   "execution_count": 9,
   "id": "ed88147c",
   "metadata": {},
   "outputs": [],
   "source": [
    "from sklearn.compose import make_column_transformer\n",
    "from sklearn.preprocessing import FunctionTransformer\n",
    "\n",
    "from pandas.api.types import CategoricalDtype    # 自行建立 ordered category\n",
    "cat_ord = CategoricalDtype(categories=None, ordered=True)    # 不設類別 (default) ，有序"
   ]
  },
  {
   "cell_type": "code",
   "execution_count": 10,
   "id": "0fd29bf4",
   "metadata": {},
   "outputs": [],
   "source": [
    "# 各型別特徵名稱\n",
    "cols_to_int = ['資本額', ]\n",
    "cols_to_cat = ['營業縣市', '場所型式', ]\n",
    "cols_to_ord = ['餐飲業次業別數', '標章分數', '場所規模', ]\n",
    "\n",
    "# 轉換函數\n",
    "to_int = FunctionTransformer(lambda x: x.astype('uint32'))    # uint32: 0 to (2**32)-1\n",
    "to_cat = FunctionTransformer(lambda x: x.astype('category'))\n",
    "to_ord = FunctionTransformer(lambda x: x.astype(cat_ord))\n",
    "\n",
    "# 轉換流程\n",
    "col_trans = make_column_transformer(\n",
    "    (to_int, cols_to_int), (to_cat, cols_to_cat), (to_ord, cols_to_ord), \n",
    "    remainder='drop',    # 丟棄剩餘欄位 (default)\n",
    "    verbose_feature_names_out=False    # 去掉 transformer 前綴\n",
    ").set_output(transform='pandas')    # 輸出 dataframe\n",
    "\n",
    "# 執行轉換\n",
    "df_features_nc = col_trans.fit_transform(df_features)\n"
   ]
  },
  {
   "cell_type": "code",
   "execution_count": 11,
   "id": "af8bb27a",
   "metadata": {},
   "outputs": [],
   "source": [
    "from pandas.api.types import is_integer_dtype    # 檢測欄位是否為 int"
   ]
  },
  {
   "cell_type": "code",
   "execution_count": 12,
   "id": "1b193a32",
   "metadata": {},
   "outputs": [],
   "source": [
    "# 保留二元特徵\n",
    "df_features_b = df_features.drop(labels=df_features_nc.columns, axis=1)\n",
    "\n",
    "# 轉換至 0/1 ，型別設定 uint8\n",
    "df_features_b = df_features_b.apply(    # axis=0: apply function to each column\n",
    "    # use conditional expression\n",
    "    lambda col: col.astype('uint8') if is_integer_dtype(col) else col.map({'Y':1, 'N':0}).astype('uint8')\n",
    ")"
   ]
  },
  {
   "cell_type": "code",
   "execution_count": 13,
   "id": "7f8b7f27",
   "metadata": {},
   "outputs": [],
   "source": [
    "# concatenate dataframe\n",
    "df_features_ncb = pd.concat([df_features_nc, df_features_b], axis=1)"
   ]
  },
  {
   "cell_type": "code",
   "execution_count": 14,
   "id": "a79ccfb1",
   "metadata": {},
   "outputs": [],
   "source": [
    "del cat_ord, cols_to_int, cols_to_cat, cols_to_ord, to_int, to_cat, to_ord, col_trans, df_features_nc, df_features_b"
   ]
  },
  {
   "cell_type": "markdown",
   "id": "e1bb1fee",
   "metadata": {},
   "source": [
    "### Splitting Datasets"
   ]
  },
  {
   "cell_type": "code",
   "execution_count": 15,
   "id": "717dddd4",
   "metadata": {},
   "outputs": [],
   "source": [
    "# training set\n",
    "X_train = df_features_ncb[df_others['Group'] == 'train']\n",
    "y_train = ser_target[df_others['Group'] == 'train']\n",
    "\n",
    "# testing set\n",
    "X_test = df_features_ncb[df_others['Group'] == 'test']\n",
    "y_test = ser_target[df_others['Group'] == 'test']\n",
    "\n",
    "del df_features, ser_target, df_features_ncb"
   ]
  },
  {
   "cell_type": "code",
   "execution_count": 16,
   "id": "0ffd4bfd",
   "metadata": {},
   "outputs": [],
   "source": [
    "# pickle object to file\n",
    "dict_train = {'X': X_train, 'y': y_train}\n",
    "dict_test = {'X': X_test, 'y': y_test}\n",
    "dict_dfs_pre = {'others': df_others, 'train': dict_train, 'test': dict_test}\n",
    "# 出現 nested dictionary ，注意複製問題！\n",
    "\n",
    "pd.to_pickle(dict_dfs_pre, 'data_pre.pkl')"
   ]
  }
 ],
 "metadata": {
  "kernelspec": {
   "display_name": "Python 3",
   "language": "python",
   "name": "python3"
  },
  "language_info": {
   "codemirror_mode": {
    "name": "ipython",
    "version": 3
   },
   "file_extension": ".py",
   "mimetype": "text/x-python",
   "name": "python",
   "nbconvert_exporter": "python",
   "pygments_lexer": "ipython3",
   "version": "3.11.5"
  }
 },
 "nbformat": 4,
 "nbformat_minor": 5
}
