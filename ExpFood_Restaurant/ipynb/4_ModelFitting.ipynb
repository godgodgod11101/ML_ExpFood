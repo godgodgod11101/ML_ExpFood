{
 "cells": [
  {
   "cell_type": "markdown",
   "id": "9440ca63",
   "metadata": {},
   "source": [
    "# 餐飲業逾期風險預測模型\n",
    "由我國「應建立食品追溯追蹤系統之食品業者」規定可知，須申報食品流向資料於本署非追不可系統多為製造與輸入業者，對於販售與餐飲業者則無相關資料可用，無法推算其庫存，進而評估其是否可能存放逾期食品。因此，針對販售與餐飲業者，則透過後市場稽查資料及業者相關資訊，嘗試以監督式學習方法建構業者逾期食品違規風險預測模型，而此處為餐飲業資料的建模評估。"
   ]
  },
  {
   "cell_type": "markdown",
   "id": "39a40a2f",
   "metadata": {},
   "source": [
    "### 程式架構\n",
    "* 資料前處理(Preprocessing.ipynb)\n",
    "* 特徵篩選(FeatureSelection.ipynb)\n",
    "* 資料不平衡處理(HandlingImbData.ipynb)\n",
    "* **模型配適(ModelFitting.ipynb)**\n",
    "* 模型評估(ModelEvaluating.ipynb)"
   ]
  },
  {
   "cell_type": "markdown",
   "id": "588087b3",
   "metadata": {},
   "source": [
    "## 模型配適"
   ]
  },
  {
   "cell_type": "markdown",
   "id": "2d778883",
   "metadata": {},
   "source": [
    "### Package"
   ]
  },
  {
   "cell_type": "code",
   "execution_count": 1,
   "id": "a0209b7e",
   "metadata": {},
   "outputs": [],
   "source": [
    "import numpy as np\n",
    "import pandas as pd\n",
    "import matplotlib.pyplot as plt"
   ]
  },
  {
   "cell_type": "markdown",
   "id": "f6bc5881",
   "metadata": {},
   "source": [
    "### Data Import"
   ]
  },
  {
   "cell_type": "code",
   "execution_count": 2,
   "id": "41093393",
   "metadata": {},
   "outputs": [
    {
     "name": "stdout",
     "output_type": "stream",
     "text": [
      "dict_keys(['others', 'train', 'test', 'feature_selection'])\n"
     ]
    }
   ],
   "source": [
    "dict_dfs_sm = pd.read_pickle('../data/data_sm.pkl')\n",
    "print(dict_dfs_sm.keys())"
   ]
  },
  {
   "cell_type": "markdown",
   "id": "1678cc7b",
   "metadata": {},
   "source": [
    "### Data Transform"
   ]
  },
  {
   "cell_type": "code",
   "execution_count": 3,
   "id": "8a06bdab",
   "metadata": {},
   "outputs": [],
   "source": [
    "X_train = dict_dfs_sm['train']['X_select']    # fit transformer\n",
    "X_smote = dict_dfs_sm['train']['X_smote']\n",
    "X_test = dict_dfs_sm['test']['X_select']"
   ]
  },
  {
   "cell_type": "markdown",
   "id": "903c91c7",
   "metadata": {},
   "source": [
    "##### Encoding"
   ]
  },
  {
   "cell_type": "code",
   "execution_count": 4,
   "id": "c8ca8e1c",
   "metadata": {},
   "outputs": [],
   "source": [
    "from sklearn.preprocessing import OneHotEncoder, OrdinalEncoder\n",
    "from sklearn.compose import make_column_transformer"
   ]
  },
  {
   "cell_type": "code",
   "execution_count": 5,
   "id": "d5769128",
   "metadata": {},
   "outputs": [],
   "source": [
    "cols_DumEnc = [c for c in X_smote.select_dtypes('category').columns if not X_smote[c].dtypes.ordered]\n",
    "cols_OrdEnc = [c for c in X_smote.select_dtypes('category').columns if X_smote[c].dtypes.ordered]\n",
    "\n",
    "trans_enc = make_column_transformer(\n",
    "    (OneHotEncoder(drop='first', sparse_output=False, dtype='uint8'), cols_DumEnc), \n",
    "    (OrdinalEncoder(dtype='uint8'), cols_OrdEnc), \n",
    "    remainder='passthrough', \n",
    "    force_int_remainder_cols=False, \n",
    "    verbose_feature_names_out=False\n",
    ").set_output(transform='pandas')\n",
    "\n",
    "# fit\n",
    "trans_enc.fit(X_train)\n",
    "\n",
    "# transform\n",
    "X_train_Enc = trans_enc.transform(X_train)\n",
    "X_sm_Enc = trans_enc.transform(X_smote)\n",
    "X_test_Enc = trans_enc.transform(X_test)"
   ]
  },
  {
   "cell_type": "markdown",
   "id": "806e714a",
   "metadata": {},
   "source": [
    "##### Standardization"
   ]
  },
  {
   "cell_type": "code",
   "execution_count": 6,
   "id": "249e5a64",
   "metadata": {},
   "outputs": [],
   "source": [
    "from sklearn.preprocessing import StandardScaler"
   ]
  },
  {
   "cell_type": "code",
   "execution_count": 7,
   "id": "7deeb1db",
   "metadata": {},
   "outputs": [],
   "source": [
    "# scaler & scaler column names\n",
    "scaler_stand = StandardScaler().set_output(transform='pandas')\n",
    "cols_stand = X_smote.select_dtypes(include='float').columns.tolist() + cols_OrdEnc\n",
    "\n",
    "# fit (use original training set)\n",
    "scaler_stand.fit(X_train_Enc[cols_stand])\n",
    "\n",
    "# transform (and create new df)\n",
    "def scaler_df(df, cols=cols_stand, scaler=scaler_stand): \n",
    "    df_scale = scaler.transform(df[cols])\n",
    "    df_all = pd.concat([df_scale, df.drop(cols, axis=1)], axis=1)\n",
    "    return df_all\n",
    "\n",
    "X_sm_EncSca = scaler_df(X_sm_Enc)\n",
    "X_test_EncSca = scaler_df(X_test_Enc)"
   ]
  },
  {
   "cell_type": "code",
   "execution_count": 8,
   "id": "5bf497a0",
   "metadata": {},
   "outputs": [],
   "source": [
    "del cols_DumEnc, cols_OrdEnc, cols_stand, trans_enc, scaler_stand, X_train, X_train_Enc, X_smote, X_sm_Enc, X_test, X_test_Enc"
   ]
  },
  {
   "cell_type": "markdown",
   "id": "f651404c",
   "metadata": {},
   "source": [
    "### Shuffle"
   ]
  },
  {
   "cell_type": "code",
   "execution_count": 9,
   "id": "e8490ef1",
   "metadata": {},
   "outputs": [],
   "source": [
    "from sklearn.utils import shuffle\n",
    "# maybe for bagging"
   ]
  },
  {
   "cell_type": "code",
   "execution_count": 10,
   "id": "5884107f",
   "metadata": {},
   "outputs": [],
   "source": [
    "y_smote = dict_dfs_sm['train']['y_smote']\n",
    "y_sh, X_sh = shuffle(y_smote, X_sm_EncSca, random_state=27)"
   ]
  },
  {
   "cell_type": "code",
   "execution_count": 11,
   "id": "9aba389c",
   "metadata": {},
   "outputs": [],
   "source": [
    "del X_sm_EncSca, y_smote"
   ]
  },
  {
   "cell_type": "markdown",
   "id": "863056e0",
   "metadata": {},
   "source": [
    "### Model Fitting: Logistic Regression (with L1 penalty) "
   ]
  },
  {
   "cell_type": "code",
   "execution_count": 12,
   "id": "c205a205",
   "metadata": {},
   "outputs": [],
   "source": [
    "from sklearn.linear_model import LogisticRegression"
   ]
  },
  {
   "cell_type": "code",
   "execution_count": 13,
   "id": "0a8ceef3",
   "metadata": {},
   "outputs": [],
   "source": [
    "# create a model and fit the dataset\n",
    "def fit_logistic_l1(X, y): \n",
    "    mdl = LogisticRegression(penalty='l1', solver='liblinear', max_iter=100, random_state=27)\n",
    "    mdl.fit(X, y)\n",
    "    return mdl\n",
    "\n",
    "logistic_l1 = fit_logistic_l1(X_sh, y_sh)"
   ]
  },
  {
   "cell_type": "code",
   "execution_count": 14,
   "id": "b668f007",
   "metadata": {},
   "outputs": [
    {
     "data": {
      "application/vnd.microsoft.datawrangler.viewer.v0+json": {
       "columns": [
        {
         "name": "index",
         "rawType": "int64",
         "type": "integer"
        },
        {
         "name": "column name",
         "rawType": "object",
         "type": "string"
        },
        {
         "name": "coefficient",
         "rawType": "float64",
         "type": "float"
        }
       ],
       "conversionMethod": "pd.DataFrame",
       "ref": "fe236fd3-39c3-498b-b643-8b5b1bbd5f5e",
       "rows": [
        [
         "0",
         "資本額",
         "0.9854364150730628"
        ],
        [
         "1",
         "餐飲業次業別數",
         "-1.4721913545836811"
        ],
        [
         "2",
         "標章分數",
         "-0.38533170352025303"
        ],
        [
         "3",
         "場所規模",
         "-0.5420077575266355"
        ],
        [
         "4",
         "營業縣市_台中市",
         "-1.5949978162735168"
        ],
        [
         "5",
         "營業縣市_台北市",
         "-0.4273749341919641"
        ],
        [
         "6",
         "營業縣市_台南市",
         "4.8592502345734445"
        ],
        [
         "7",
         "營業縣市_台東縣",
         "6.722968398992402"
        ],
        [
         "8",
         "營業縣市_嘉義市",
         "3.409125981162353"
        ],
        [
         "9",
         "營業縣市_嘉義縣",
         "0.0"
        ],
        [
         "10",
         "營業縣市_基隆市",
         "0.0"
        ],
        [
         "11",
         "營業縣市_宜蘭縣",
         "5.518779344421294"
        ],
        [
         "12",
         "營業縣市_屏東縣",
         "0.0"
        ],
        [
         "13",
         "營業縣市_彰化縣",
         "0.0"
        ],
        [
         "14",
         "營業縣市_新北市",
         "0.0"
        ],
        [
         "15",
         "營業縣市_新竹市",
         "6.394709909385501"
        ],
        [
         "16",
         "營業縣市_新竹縣",
         "0.0"
        ],
        [
         "17",
         "營業縣市_桃園市",
         "6.875256078862822"
        ],
        [
         "18",
         "營業縣市_澎湖縣",
         "0.0"
        ],
        [
         "19",
         "營業縣市_花蓮縣",
         "-0.8406894127734184"
        ],
        [
         "20",
         "營業縣市_苗栗縣",
         "0.0"
        ],
        [
         "21",
         "營業縣市_連江縣",
         "0.0"
        ],
        [
         "22",
         "營業縣市_金門縣",
         "0.0"
        ],
        [
         "23",
         "營業縣市_雲林縣",
         "0.0"
        ],
        [
         "24",
         "營業縣市_高雄市",
         "3.523902375016841"
        ],
        [
         "25",
         "場所型式_b",
         "-2.8698787744499445"
        ],
        [
         "26",
         "場所型式_c",
         "2.117300216585386"
        ],
        [
         "27",
         "場所型式_d",
         "0.0"
        ],
        [
         "28",
         "是否兼具製造業",
         "-2.117150162276567"
        ],
        [
         "29",
         "是否兼具販售業",
         "-4.080011032932077"
        ],
        [
         "30",
         "上市上櫃",
         "-3.540672178285167"
        ],
        [
         "31",
         "導入HACCP",
         "-2.8866235901031128"
        ],
        [
         "32",
         "導入ISO22000",
         "0.0"
        ],
        [
         "33",
         "來源流向管理",
         "-0.8432657344376194"
        ],
        [
         "34",
         "投保責任險",
         "1.709877541297207"
        ],
        [
         "35",
         "倉儲",
         "-4.539528579690673"
        ],
        [
         "36",
         "食添法規認知",
         "1.6247441382378447"
        ],
        [
         "37",
         "逾期食品法規認知",
         "0.7436439149472163"
        ],
        [
         "38",
         "有直營連鎖店",
         "-3.365395439967454"
        ],
        [
         "39",
         "有加盟連鎖店",
         "-1.5025686209288729"
        ],
        [
         "40",
         "同一地址有多個餐飲場所",
         "-4.1478197512394654"
        ],
        [
         "41",
         "有餐飲場所且有工廠製造場所",
         "-3.6900818091470353"
        ],
        [
         "42",
         "有餐飲場所且委託他廠代工",
         "-2.264950412136614"
        ],
        [
         "43",
         "美食平台",
         "-1.1678315212695478"
        ],
        [
         "44",
         "有無專技人員",
         "-2.4687899289450077"
        ],
        [
         "45",
         "有無技術士證照",
         "0.45462504262932935"
        ],
        [
         "46",
         "有無供應學校",
         "-0.9298259863680401"
        ]
       ],
       "shape": {
        "columns": 2,
        "rows": 47
       }
      },
      "text/html": [
       "<div>\n",
       "<style scoped>\n",
       "    .dataframe tbody tr th:only-of-type {\n",
       "        vertical-align: middle;\n",
       "    }\n",
       "\n",
       "    .dataframe tbody tr th {\n",
       "        vertical-align: top;\n",
       "    }\n",
       "\n",
       "    .dataframe thead th {\n",
       "        text-align: right;\n",
       "    }\n",
       "</style>\n",
       "<table border=\"1\" class=\"dataframe\">\n",
       "  <thead>\n",
       "    <tr style=\"text-align: right;\">\n",
       "      <th></th>\n",
       "      <th>column name</th>\n",
       "      <th>coefficient</th>\n",
       "    </tr>\n",
       "  </thead>\n",
       "  <tbody>\n",
       "    <tr>\n",
       "      <th>0</th>\n",
       "      <td>資本額</td>\n",
       "      <td>0.985436</td>\n",
       "    </tr>\n",
       "    <tr>\n",
       "      <th>1</th>\n",
       "      <td>餐飲業次業別數</td>\n",
       "      <td>-1.472191</td>\n",
       "    </tr>\n",
       "    <tr>\n",
       "      <th>2</th>\n",
       "      <td>標章分數</td>\n",
       "      <td>-0.385332</td>\n",
       "    </tr>\n",
       "    <tr>\n",
       "      <th>3</th>\n",
       "      <td>場所規模</td>\n",
       "      <td>-0.542008</td>\n",
       "    </tr>\n",
       "    <tr>\n",
       "      <th>4</th>\n",
       "      <td>營業縣市_台中市</td>\n",
       "      <td>-1.594998</td>\n",
       "    </tr>\n",
       "    <tr>\n",
       "      <th>5</th>\n",
       "      <td>營業縣市_台北市</td>\n",
       "      <td>-0.427375</td>\n",
       "    </tr>\n",
       "    <tr>\n",
       "      <th>6</th>\n",
       "      <td>營業縣市_台南市</td>\n",
       "      <td>4.859250</td>\n",
       "    </tr>\n",
       "    <tr>\n",
       "      <th>7</th>\n",
       "      <td>營業縣市_台東縣</td>\n",
       "      <td>6.722968</td>\n",
       "    </tr>\n",
       "    <tr>\n",
       "      <th>8</th>\n",
       "      <td>營業縣市_嘉義市</td>\n",
       "      <td>3.409126</td>\n",
       "    </tr>\n",
       "    <tr>\n",
       "      <th>9</th>\n",
       "      <td>營業縣市_嘉義縣</td>\n",
       "      <td>0.000000</td>\n",
       "    </tr>\n",
       "    <tr>\n",
       "      <th>10</th>\n",
       "      <td>營業縣市_基隆市</td>\n",
       "      <td>0.000000</td>\n",
       "    </tr>\n",
       "    <tr>\n",
       "      <th>11</th>\n",
       "      <td>營業縣市_宜蘭縣</td>\n",
       "      <td>5.518779</td>\n",
       "    </tr>\n",
       "    <tr>\n",
       "      <th>12</th>\n",
       "      <td>營業縣市_屏東縣</td>\n",
       "      <td>0.000000</td>\n",
       "    </tr>\n",
       "    <tr>\n",
       "      <th>13</th>\n",
       "      <td>營業縣市_彰化縣</td>\n",
       "      <td>0.000000</td>\n",
       "    </tr>\n",
       "    <tr>\n",
       "      <th>14</th>\n",
       "      <td>營業縣市_新北市</td>\n",
       "      <td>0.000000</td>\n",
       "    </tr>\n",
       "    <tr>\n",
       "      <th>15</th>\n",
       "      <td>營業縣市_新竹市</td>\n",
       "      <td>6.394710</td>\n",
       "    </tr>\n",
       "    <tr>\n",
       "      <th>16</th>\n",
       "      <td>營業縣市_新竹縣</td>\n",
       "      <td>0.000000</td>\n",
       "    </tr>\n",
       "    <tr>\n",
       "      <th>17</th>\n",
       "      <td>營業縣市_桃園市</td>\n",
       "      <td>6.875256</td>\n",
       "    </tr>\n",
       "    <tr>\n",
       "      <th>18</th>\n",
       "      <td>營業縣市_澎湖縣</td>\n",
       "      <td>0.000000</td>\n",
       "    </tr>\n",
       "    <tr>\n",
       "      <th>19</th>\n",
       "      <td>營業縣市_花蓮縣</td>\n",
       "      <td>-0.840689</td>\n",
       "    </tr>\n",
       "    <tr>\n",
       "      <th>20</th>\n",
       "      <td>營業縣市_苗栗縣</td>\n",
       "      <td>0.000000</td>\n",
       "    </tr>\n",
       "    <tr>\n",
       "      <th>21</th>\n",
       "      <td>營業縣市_連江縣</td>\n",
       "      <td>0.000000</td>\n",
       "    </tr>\n",
       "    <tr>\n",
       "      <th>22</th>\n",
       "      <td>營業縣市_金門縣</td>\n",
       "      <td>0.000000</td>\n",
       "    </tr>\n",
       "    <tr>\n",
       "      <th>23</th>\n",
       "      <td>營業縣市_雲林縣</td>\n",
       "      <td>0.000000</td>\n",
       "    </tr>\n",
       "    <tr>\n",
       "      <th>24</th>\n",
       "      <td>營業縣市_高雄市</td>\n",
       "      <td>3.523902</td>\n",
       "    </tr>\n",
       "    <tr>\n",
       "      <th>25</th>\n",
       "      <td>場所型式_b</td>\n",
       "      <td>-2.869879</td>\n",
       "    </tr>\n",
       "    <tr>\n",
       "      <th>26</th>\n",
       "      <td>場所型式_c</td>\n",
       "      <td>2.117300</td>\n",
       "    </tr>\n",
       "    <tr>\n",
       "      <th>27</th>\n",
       "      <td>場所型式_d</td>\n",
       "      <td>0.000000</td>\n",
       "    </tr>\n",
       "    <tr>\n",
       "      <th>28</th>\n",
       "      <td>是否兼具製造業</td>\n",
       "      <td>-2.117150</td>\n",
       "    </tr>\n",
       "    <tr>\n",
       "      <th>29</th>\n",
       "      <td>是否兼具販售業</td>\n",
       "      <td>-4.080011</td>\n",
       "    </tr>\n",
       "    <tr>\n",
       "      <th>30</th>\n",
       "      <td>上市上櫃</td>\n",
       "      <td>-3.540672</td>\n",
       "    </tr>\n",
       "    <tr>\n",
       "      <th>31</th>\n",
       "      <td>導入HACCP</td>\n",
       "      <td>-2.886624</td>\n",
       "    </tr>\n",
       "    <tr>\n",
       "      <th>32</th>\n",
       "      <td>導入ISO22000</td>\n",
       "      <td>0.000000</td>\n",
       "    </tr>\n",
       "    <tr>\n",
       "      <th>33</th>\n",
       "      <td>來源流向管理</td>\n",
       "      <td>-0.843266</td>\n",
       "    </tr>\n",
       "    <tr>\n",
       "      <th>34</th>\n",
       "      <td>投保責任險</td>\n",
       "      <td>1.709878</td>\n",
       "    </tr>\n",
       "    <tr>\n",
       "      <th>35</th>\n",
       "      <td>倉儲</td>\n",
       "      <td>-4.539529</td>\n",
       "    </tr>\n",
       "    <tr>\n",
       "      <th>36</th>\n",
       "      <td>食添法規認知</td>\n",
       "      <td>1.624744</td>\n",
       "    </tr>\n",
       "    <tr>\n",
       "      <th>37</th>\n",
       "      <td>逾期食品法規認知</td>\n",
       "      <td>0.743644</td>\n",
       "    </tr>\n",
       "    <tr>\n",
       "      <th>38</th>\n",
       "      <td>有直營連鎖店</td>\n",
       "      <td>-3.365395</td>\n",
       "    </tr>\n",
       "    <tr>\n",
       "      <th>39</th>\n",
       "      <td>有加盟連鎖店</td>\n",
       "      <td>-1.502569</td>\n",
       "    </tr>\n",
       "    <tr>\n",
       "      <th>40</th>\n",
       "      <td>同一地址有多個餐飲場所</td>\n",
       "      <td>-4.147820</td>\n",
       "    </tr>\n",
       "    <tr>\n",
       "      <th>41</th>\n",
       "      <td>有餐飲場所且有工廠製造場所</td>\n",
       "      <td>-3.690082</td>\n",
       "    </tr>\n",
       "    <tr>\n",
       "      <th>42</th>\n",
       "      <td>有餐飲場所且委託他廠代工</td>\n",
       "      <td>-2.264950</td>\n",
       "    </tr>\n",
       "    <tr>\n",
       "      <th>43</th>\n",
       "      <td>美食平台</td>\n",
       "      <td>-1.167832</td>\n",
       "    </tr>\n",
       "    <tr>\n",
       "      <th>44</th>\n",
       "      <td>有無專技人員</td>\n",
       "      <td>-2.468790</td>\n",
       "    </tr>\n",
       "    <tr>\n",
       "      <th>45</th>\n",
       "      <td>有無技術士證照</td>\n",
       "      <td>0.454625</td>\n",
       "    </tr>\n",
       "    <tr>\n",
       "      <th>46</th>\n",
       "      <td>有無供應學校</td>\n",
       "      <td>-0.929826</td>\n",
       "    </tr>\n",
       "  </tbody>\n",
       "</table>\n",
       "</div>"
      ],
      "text/plain": [
       "      column name  coefficient\n",
       "0             資本額     0.985436\n",
       "1         餐飲業次業別數    -1.472191\n",
       "2            標章分數    -0.385332\n",
       "3            場所規模    -0.542008\n",
       "4        營業縣市_台中市    -1.594998\n",
       "5        營業縣市_台北市    -0.427375\n",
       "6        營業縣市_台南市     4.859250\n",
       "7        營業縣市_台東縣     6.722968\n",
       "8        營業縣市_嘉義市     3.409126\n",
       "9        營業縣市_嘉義縣     0.000000\n",
       "10       營業縣市_基隆市     0.000000\n",
       "11       營業縣市_宜蘭縣     5.518779\n",
       "12       營業縣市_屏東縣     0.000000\n",
       "13       營業縣市_彰化縣     0.000000\n",
       "14       營業縣市_新北市     0.000000\n",
       "15       營業縣市_新竹市     6.394710\n",
       "16       營業縣市_新竹縣     0.000000\n",
       "17       營業縣市_桃園市     6.875256\n",
       "18       營業縣市_澎湖縣     0.000000\n",
       "19       營業縣市_花蓮縣    -0.840689\n",
       "20       營業縣市_苗栗縣     0.000000\n",
       "21       營業縣市_連江縣     0.000000\n",
       "22       營業縣市_金門縣     0.000000\n",
       "23       營業縣市_雲林縣     0.000000\n",
       "24       營業縣市_高雄市     3.523902\n",
       "25         場所型式_b    -2.869879\n",
       "26         場所型式_c     2.117300\n",
       "27         場所型式_d     0.000000\n",
       "28        是否兼具製造業    -2.117150\n",
       "29        是否兼具販售業    -4.080011\n",
       "30           上市上櫃    -3.540672\n",
       "31        導入HACCP    -2.886624\n",
       "32     導入ISO22000     0.000000\n",
       "33         來源流向管理    -0.843266\n",
       "34          投保責任險     1.709878\n",
       "35             倉儲    -4.539529\n",
       "36         食添法規認知     1.624744\n",
       "37       逾期食品法規認知     0.743644\n",
       "38         有直營連鎖店    -3.365395\n",
       "39         有加盟連鎖店    -1.502569\n",
       "40    同一地址有多個餐飲場所    -4.147820\n",
       "41  有餐飲場所且有工廠製造場所    -3.690082\n",
       "42   有餐飲場所且委託他廠代工    -2.264950\n",
       "43           美食平台    -1.167832\n",
       "44         有無專技人員    -2.468790\n",
       "45        有無技術士證照     0.454625\n",
       "46         有無供應學校    -0.929826"
      ]
     },
     "execution_count": 14,
     "metadata": {},
     "output_type": "execute_result"
    }
   ],
   "source": [
    "# 迴歸係數\n",
    "pd.DataFrame(\n",
    "    {'column name': X_sh.columns.tolist(), \n",
    "     'coefficient': logistic_l1.coef_.flatten()}  \n",
    ")"
   ]
  },
  {
   "cell_type": "markdown",
   "id": "441ae8b1",
   "metadata": {},
   "source": [
    "### Save"
   ]
  },
  {
   "cell_type": "code",
   "execution_count": 15,
   "id": "e394ac20",
   "metadata": {},
   "outputs": [],
   "source": [
    "dict_mdl = {\n",
    "    'logistic_l1': logistic_l1\n",
    "}"
   ]
  },
  {
   "cell_type": "code",
   "execution_count": 16,
   "id": "08a786cc",
   "metadata": {},
   "outputs": [],
   "source": [
    "import pickle\n",
    "\n",
    "with open('../data/model.pkl', 'wb') as f: \n",
    "    pickle.dump(dict_mdl, f)"
   ]
  },
  {
   "cell_type": "code",
   "execution_count": 17,
   "id": "ba11e8a3",
   "metadata": {},
   "outputs": [],
   "source": [
    "dict_dfs_sm['test']['X_stand'] = X_test_EncSca\n",
    "pd.to_pickle(dict_dfs_sm, '../data/data_trans.pkl')"
   ]
  },
  {
   "cell_type": "code",
   "execution_count": null,
   "id": "4abb9546",
   "metadata": {},
   "outputs": [],
   "source": []
  }
 ],
 "metadata": {
  "kernelspec": {
   "display_name": "Python 3",
   "language": "python",
   "name": "python3"
  },
  "language_info": {
   "codemirror_mode": {
    "name": "ipython",
    "version": 3
   },
   "file_extension": ".py",
   "mimetype": "text/x-python",
   "name": "python",
   "nbconvert_exporter": "python",
   "pygments_lexer": "ipython3",
   "version": "3.11.5"
  }
 },
 "nbformat": 4,
 "nbformat_minor": 5
}
