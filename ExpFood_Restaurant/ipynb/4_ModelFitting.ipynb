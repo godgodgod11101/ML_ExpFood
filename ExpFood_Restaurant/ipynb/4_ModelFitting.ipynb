{
 "cells": [
  {
   "cell_type": "markdown",
   "id": "9440ca63",
   "metadata": {},
   "source": [
    "# 餐飲業逾期風險預測模型\n",
    "由我國「應建立食品追溯追蹤系統之食品業者」規定可知，須申報食品流向資料於本署非追不可系統多為製造與輸入業者，對於販售與餐飲業者則無相關資料可用，無法推算其庫存，進而評估其是否可能存放逾期食品。因此，針對販售與餐飲業者，則透過後市場稽查資料及業者相關資訊，嘗試以監督式學習方法建構業者逾期食品違規風險預測模型，而此處為餐飲業資料的建模評估。"
   ]
  },
  {
   "cell_type": "markdown",
   "id": "91e2ea04",
   "metadata": {},
   "source": [
    "### 程式架構\n",
    "* 資料前處理(Preprocessing.ipynb)\n",
    "* 特徵篩選(FeatureSelection.ipynb)\n",
    "* 資料不平衡處理(HandlingImbData.ipynb)\n",
    "* **模型配適(ModelFitting.ipynb)**"
   ]
  },
  {
   "cell_type": "markdown",
   "id": "588087b3",
   "metadata": {},
   "source": [
    "## 模型配適"
   ]
  },
  {
   "cell_type": "markdown",
   "id": "2d778883",
   "metadata": {},
   "source": [
    "### Package"
   ]
  },
  {
   "cell_type": "code",
   "execution_count": 1,
   "id": "a0209b7e",
   "metadata": {},
   "outputs": [],
   "source": [
    "import numpy as np\n",
    "import pandas as pd\n",
    "import matplotlib.pyplot as plt"
   ]
  },
  {
   "cell_type": "markdown",
   "id": "f6bc5881",
   "metadata": {},
   "source": [
    "### Data Import"
   ]
  },
  {
   "cell_type": "code",
   "execution_count": 2,
   "id": "41093393",
   "metadata": {},
   "outputs": [
    {
     "name": "stdout",
     "output_type": "stream",
     "text": [
      "dict_keys(['others', 'train', 'test', 'feature_selection'])\n"
     ]
    }
   ],
   "source": [
    "dict_dfs_fs = pd.read_pickle('../data/data_sm.pkl')\n",
    "print(dict_dfs_fs.keys())"
   ]
  },
  {
   "cell_type": "markdown",
   "id": "1678cc7b",
   "metadata": {},
   "source": [
    "### Data Transform"
   ]
  },
  {
   "cell_type": "code",
   "execution_count": 3,
   "id": "8a06bdab",
   "metadata": {},
   "outputs": [],
   "source": [
    "X_train = dict_dfs_fs['train']['X_select']    # fit transformer\n",
    "X_smote = dict_dfs_fs['train']['X_smote']\n",
    "X_test = dict_dfs_fs['test']['X_select']"
   ]
  },
  {
   "cell_type": "markdown",
   "id": "903c91c7",
   "metadata": {},
   "source": [
    "##### Encoding"
   ]
  },
  {
   "cell_type": "code",
   "execution_count": 4,
   "id": "c8ca8e1c",
   "metadata": {},
   "outputs": [],
   "source": [
    "from sklearn.preprocessing import OneHotEncoder, OrdinalEncoder\n",
    "from sklearn.compose import make_column_transformer"
   ]
  },
  {
   "cell_type": "code",
   "execution_count": 5,
   "id": "d5769128",
   "metadata": {},
   "outputs": [],
   "source": [
    "cols_DumEnc = [c for c in X_smote.select_dtypes('category').columns if not X_smote[c].dtypes.ordered]\n",
    "cols_OrdEnc = [c for c in X_smote.select_dtypes('category').columns if X_smote[c].dtypes.ordered]\n",
    "\n",
    "trans_enc = make_column_transformer(\n",
    "    (OneHotEncoder(drop='first', sparse_output=False, dtype='uint8'), cols_DumEnc), \n",
    "    (OrdinalEncoder(dtype='uint8'), cols_OrdEnc), \n",
    "    remainder='passthrough', \n",
    "    force_int_remainder_cols=False, \n",
    "    verbose_feature_names_out=False\n",
    ").set_output(transform='pandas')\n",
    "\n",
    "# fit\n",
    "trans_enc.fit(X_train)\n",
    "\n",
    "# transform\n",
    "X_train_Enc = trans_enc.transform(X_train)\n",
    "X_sm_Enc = trans_enc.transform(X_smote)\n",
    "X_test_Enc = trans_enc.transform(X_test)"
   ]
  },
  {
   "cell_type": "markdown",
   "id": "806e714a",
   "metadata": {},
   "source": [
    "##### Standardization"
   ]
  },
  {
   "cell_type": "code",
   "execution_count": 6,
   "id": "249e5a64",
   "metadata": {},
   "outputs": [],
   "source": [
    "from sklearn.preprocessing import StandardScaler"
   ]
  },
  {
   "cell_type": "code",
   "execution_count": 7,
   "id": "7deeb1db",
   "metadata": {},
   "outputs": [],
   "source": [
    "# scaler & scaler column names\n",
    "scaler_stand = StandardScaler().set_output(transform='pandas')\n",
    "cols_stand = X_smote.select_dtypes(include='float').columns.tolist() + cols_OrdEnc\n",
    "\n",
    "# fit (use original training set)\n",
    "scaler_stand.fit(X_train_Enc[cols_stand])\n",
    "\n",
    "# transform\n",
    "def scaler_df(df, cols=cols_stand, scaler=scaler_stand): \n",
    "    df_scale = scaler.transform(df[cols])\n",
    "    df_all = pd.concat([df_scale, df.drop(cols, axis=1)], axis=1)\n",
    "    return df_all\n",
    "\n",
    "X_sm_EncSca = scaler_df(X_sm_Enc)\n",
    "X_test_EncSca = scaler_df(X_test_Enc)"
   ]
  },
  {
   "cell_type": "code",
   "execution_count": null,
   "id": "5bf497a0",
   "metadata": {},
   "outputs": [],
   "source": [
    "del cols_DumEnc, cols_OrdEnc, cols_stand, trans_enc, scaler_stand, X_train, X_train_Enc, X_smote, X_sm_Enc, X_test, X_test_Enc"
   ]
  },
  {
   "cell_type": "markdown",
   "id": "863056e0",
   "metadata": {},
   "source": [
    "### Model Fitting: Logistic Regression (with L1 penalty) "
   ]
  },
  {
   "cell_type": "code",
   "execution_count": 12,
   "id": "5884107f",
   "metadata": {},
   "outputs": [],
   "source": [
    "# from sklearn.utils import shuffle\n",
    "from sklearn.linear_model import LogisticRegression\n",
    "# from sklearn.metrics import ConfusionMatrixDisplay"
   ]
  },
  {
   "cell_type": "markdown",
   "id": "f651404c",
   "metadata": {},
   "source": [
    "##### Shuffle"
   ]
  },
  {
   "cell_type": "code",
   "execution_count": 13,
   "id": "fc4ded9c",
   "metadata": {},
   "outputs": [],
   "source": [
    "y_smote = dict_dfs_fs['train']['y_smote']\n",
    "# y_sh, X_sh = shuffle(y_smote, X_sm_EncSca, random_state=27)"
   ]
  },
  {
   "cell_type": "code",
   "execution_count": 14,
   "id": "0a8ceef3",
   "metadata": {},
   "outputs": [],
   "source": [
    "\n",
    "def fit_lgs_l1(X, y): \n",
    "    mdl = LogisticRegression(penalty='l1', solver='liblinear', max_iter=100, random_state=27)\n",
    "    mdl.fit(X, y)\n",
    "    return mdl\n",
    "\n",
    "lgs_sm = fit_lgs_l1(X_sm_EncSca, y_smote)"
   ]
  },
  {
   "cell_type": "markdown",
   "id": "72e2c9a6",
   "metadata": {},
   "source": [
    "### Evaluation"
   ]
  },
  {
   "cell_type": "code",
   "execution_count": 16,
   "id": "ac9cce1e",
   "metadata": {},
   "outputs": [],
   "source": [
    "y_test = dict_dfs_fs['test']['y']"
   ]
  },
  {
   "cell_type": "code",
   "execution_count": 15,
   "id": "b668f007",
   "metadata": {},
   "outputs": [
    {
     "data": {
      "text/plain": [
       "Index(['資本額', '營業縣市_台南市', '營業縣市_台東縣', '營業縣市_嘉義市', '營業縣市_宜蘭縣', '營業縣市_新竹市',\n",
       "       '營業縣市_桃園市', '營業縣市_高雄市', '場所型式_c', '投保責任險', '食添法規認知', '逾期食品法規認知',\n",
       "       '有無技術士證照'],\n",
       "      dtype='object')"
      ]
     },
     "execution_count": 15,
     "metadata": {},
     "output_type": "execute_result"
    }
   ],
   "source": [
    "# 採用特徵\n",
    "X_sm_EncSca.columns[lgs_sm.coef_.flatten() > 0]"
   ]
  },
  {
   "cell_type": "code",
   "execution_count": 17,
   "id": "812831d1",
   "metadata": {},
   "outputs": [],
   "source": [
    "# 預測結果\n",
    "def result_df(model, X_test, y_test): \n",
    "    \n",
    "    df_rsl = pd.DataFrame(\n",
    "        {'Actual': y_test.reset_index(drop=True), \n",
    "         'PredProb': model.predict_proba(X_test)[:, 1].round(4)}, \n",
    "    )\n",
    "\n",
    "    df_rsl['PredProbRank'] = df_rsl['PredProb'].rank(method='min', ascending=False).astype('uint16')\n",
    "\n",
    "    return df_rsl\n",
    "\n",
    "df_rsl = result_df(lgs_sm, X_test_EncSca, y_test)\n"
   ]
  },
  {
   "cell_type": "markdown",
   "id": "7e806b83",
   "metadata": {},
   "source": [
    "* ROC"
   ]
  },
  {
   "cell_type": "code",
   "execution_count": 18,
   "id": "49f56350",
   "metadata": {},
   "outputs": [
    {
     "data": {
      "image/png": "[encoded data removed]",
      "text/plain": [
       "<Figure size 640x480 with 1 Axes>"
      ]
     },
     "metadata": {},
     "output_type": "display_data"
    }
   ],
   "source": [
    "def tprp_rate(actual, pred_prob): \n",
    "    \n",
    "    # true positive rate\n",
    "    ntp = np.array([((actual == 1) & (pred_prob > thr)).sum() for thr in np.linspace(1, 0, 1001)])\n",
    "    rtp = ntp / actual.sum()\n",
    "    \n",
    "    # false positive rate\n",
    "    nfp = np.array([((actual == 0) & (pred_prob > thr)).sum() for thr in np.linspace(1, 0, 1001)])\n",
    "    rfp = nfp / (actual == 0).sum()\n",
    "\n",
    "    # 補點 (1, 1) ，避免預測機率為 0 情況\n",
    "    rtp = np.append(rtp, 1.0)\n",
    "    rfp = np.append(rfp, 1.0)\n",
    "\n",
    "    return rtp, rfp\n",
    "\n",
    "rtp_sm, rfp_sm = tprp_rate(actual=df_rsl['Actual'], pred_prob=df_rsl['PredProb'])\n",
    "\n",
    "plt.plot(np.linspace(0, 1, 3), np.linspace(0, 1, 3), 'k--')\n",
    "plt.plot(rfp_sm, rtp_sm)\n",
    "\n",
    "plt.title('ROC Curve')\n",
    "plt.xlabel('False Positive Rate')\n",
    "plt.ylabel(\"True Positive Rate\")\n",
    "plt.show()"
   ]
  },
  {
   "cell_type": "code",
   "execution_count": null,
   "id": "6edac0d2",
   "metadata": {},
   "outputs": [],
   "source": []
  },
  {
   "cell_type": "code",
   "execution_count": null,
   "id": "0b2655fb",
   "metadata": {},
   "outputs": [],
   "source": []
  },
  {
   "cell_type": "markdown",
   "id": "3b2a2c76",
   "metadata": {},
   "source": [
    "* Confusion Matrix"
   ]
  },
  {
   "cell_type": "code",
   "execution_count": null,
   "id": "4dafa899",
   "metadata": {},
   "outputs": [],
   "source": [
    "# 設定閾值為預測機率排序前 200 名\n",
    "df_rsl['預測排序'] = df_rsl['預測機率'].rank(method='min', ascending=False).astype('uint16')\n",
    "df_rsl['預測結果_by排序'] = (df_rsl['預測排序'] <= 200).astype('uint8')    # Pandas Vectorization"
   ]
  },
  {
   "cell_type": "code",
   "execution_count": null,
   "id": "5dfc8b9b",
   "metadata": {},
   "outputs": [],
   "source": [
    "# 建立混淆矩陣\n",
    "tp = df_rsl[(df_rsl['真實值'] == 1) & (df_rsl['預測結果_by排序'] == 1)].shape[0]\n",
    "fp = df_rsl[(df_rsl['真實值'] == 0) & (df_rsl['預測結果_by排序'] == 1)].shape[0]\n",
    "fn = df_rsl[(df_rsl['真實值'] == 1) & (df_rsl['預測結果_by排序'] == 0)].shape[0]\n",
    "tn = df_rsl[(df_rsl['真實值'] == 0) & (df_rsl['預測結果_by排序'] == 0)].shape[0]\n",
    "\n",
    "# 橫軸 Actual，縱軸 Predicted，左上 True Positive\n",
    "nda_cm = np.array([[tp, fp], [fn, tn]])\n",
    "nda_cm"
   ]
  },
  {
   "cell_type": "code",
   "execution_count": null,
   "id": "846a451f",
   "metadata": {},
   "outputs": [],
   "source": [
    "# Evaluation Metrics\n",
    "precision = tp / (tp+fp)\n",
    "recall = tp / (tp+fn)\n",
    "f1 = 2 / ((1/precision) + (1/recall))\n",
    "\n",
    "print(f'precision: {precision: .4f} \\nrecall: {recall: .4f} \\nf1-score: {f1: .4f}')"
   ]
  },
  {
   "cell_type": "code",
   "execution_count": null,
   "id": "1b9cf0f2",
   "metadata": {},
   "outputs": [],
   "source": [
    "# 繪製混淆矩陣\n",
    "cm_labels = np.array(['違規', '非違規'])\n",
    "disp = ConfusionMatrixDisplay(nda_cm, display_labels=cm_labels)\n",
    "\n",
    "# 設定中文字型（整體）\n",
    "plt.rcParams['font.family'] = 'Microsoft JhengHei'\n",
    "\n",
    "# 設定顏色\n",
    "disp.plot(cmap='Blues')\n",
    "\n",
    "# 設定軸標題\n",
    "plt.xlabel(\"Actual\", fontsize=12)\n",
    "plt.ylabel(\"Predicted\", fontsize=12)\n",
    "\n",
    "# 設定標題\n",
    "score_string = f'Precision: {precision: .4f} | Recall: {recall: .4f} | F1-score: {f1: .4f}'\n",
    "plt.title('Confusion Matrix\\n' + score_string)\n",
    "\n",
    "plt.show()"
   ]
  },
  {
   "cell_type": "code",
   "execution_count": null,
   "id": "4abb9546",
   "metadata": {},
   "outputs": [],
   "source": []
  },
  {
   "cell_type": "code",
   "execution_count": null,
   "id": "2aa6a214",
   "metadata": {},
   "outputs": [],
   "source": []
  },
  {
   "cell_type": "code",
   "execution_count": null,
   "id": "e1c3efe8",
   "metadata": {},
   "outputs": [],
   "source": []
  },
  {
   "cell_type": "code",
   "execution_count": null,
   "id": "644ed12c",
   "metadata": {},
   "outputs": [],
   "source": [
    "# 違規案件預測結果排序\n",
    "df_rsl = pd.DataFrame(\n",
    "    {'真實值': y_test, \n",
    "     '預測機率': lgs.predict_proba(X_test_ss)[:, 1].round(4), \n",
    "     '預測機率(SMOTE)': lgs_sm.predict_proba(X_test_ss)[:, 1].round(4)}\n",
    ")\n",
    "\n",
    "i = 0\n",
    "for id, real, prob1, prob2 in df_rsl.sort_values(by='預測機率', ascending=False).itertuples(): \n",
    "    i += 1\n",
    "    if real: \n",
    "        print(f'第{id}筆資料為{real}，預測機率為{prob1}，預測機率(SMOTE)為{prob2}，排序在第{i}位')\n"
   ]
  }
 ],
 "metadata": {
  "kernelspec": {
   "display_name": "Python 3",
   "language": "python",
   "name": "python3"
  },
  "language_info": {
   "codemirror_mode": {
    "name": "ipython",
    "version": 3
   },
   "file_extension": ".py",
   "mimetype": "text/x-python",
   "name": "python",
   "nbconvert_exporter": "python",
   "pygments_lexer": "ipython3",
   "version": "3.11.5"
  }
 },
 "nbformat": 4,
 "nbformat_minor": 5
}
