{
 "cells": [
  {
   "cell_type": "markdown",
   "id": "554109a1",
   "metadata": {},
   "source": [
    "# 餐飲業逾期風險預測模型\n",
    "由我國「應建立食品追溯追蹤系統之食品業者」規定可知，須申報食品流向資料於本署非追不可系統多為製造與輸入業者，對於販售與餐飲業者則無相關資料可用，無法推算其庫存，進而評估其是否可能存放逾期食品。因此，針對販售與餐飲業者，則透過後市場稽查資料及業者相關資訊，嘗試以監督式學習方法建構業者逾期食品違規風險預測模型，而此處為餐飲業資料的建模評估。"
   ]
  },
  {
   "cell_type": "markdown",
   "id": "2f28d137",
   "metadata": {},
   "source": [
    "### 程式架構\n",
    "* 資料前處理(Preprocessing.ipynb)\n",
    "* **特徵篩選(ModelFitting.ipynb)**\n",
    "* 模型配適(FeatureSelection.ipynb)"
   ]
  },
  {
   "cell_type": "markdown",
   "id": "f343303d",
   "metadata": {},
   "source": [
    "## 特徵篩選"
   ]
  },
  {
   "cell_type": "markdown",
   "id": "ff7080f7",
   "metadata": {},
   "source": [
    "### Package"
   ]
  },
  {
   "cell_type": "code",
   "execution_count": 1,
   "id": "f300799b",
   "metadata": {},
   "outputs": [],
   "source": [
    "import numpy as np \n",
    "import pandas as pd\n",
    "\n",
    "from sklearn.preprocessing import MinMaxScaler, OneHotEncoder, OrdinalEncoder    # 特徵縮放、編碼，為計算其變異數\n",
    "from sklearn.compose import make_column_transformer    # 建立流程\n",
    "from sklearn.feature_selection import VarianceThreshold    # 移除低變異特徵"
   ]
  },
  {
   "cell_type": "markdown",
   "id": "2b79b260",
   "metadata": {},
   "source": [
    "### Data Import"
   ]
  },
  {
   "cell_type": "code",
   "execution_count": 2,
   "id": "6706f3c6",
   "metadata": {},
   "outputs": [
    {
     "data": {
      "text/plain": [
       "dict_keys(['others', 'train', 'test'])"
      ]
     },
     "execution_count": 2,
     "metadata": {},
     "output_type": "execute_result"
    }
   ],
   "source": [
    "dict_dfs_pre = pd.read_pickle('../data/data_pre.pkl')\n",
    "dict_dfs_pre.keys()"
   ]
  },
  {
   "cell_type": "code",
   "execution_count": 3,
   "id": "b7c8e861",
   "metadata": {},
   "outputs": [],
   "source": [
    "X_train = dict_dfs_pre['train']['X']"
   ]
  },
  {
   "cell_type": "markdown",
   "id": "ed7f8afb",
   "metadata": {},
   "source": [
    "### Remove Low-variance Features by Variance Threshold\n",
    "<div>移除訓練集低變異特徵，包含：</div>\n",
    "<ul>\n",
    "    <li>類別特徵：計算樣本數最多類別占比，排除高於目標最多類別占比之特徵。</li>\n",
    "    <li>數值特徵：縮放至0~1，計算變異數，排除高於目標變異數之特徵。</li>\n",
    "</ul>"
   ]
  },
  {
   "cell_type": "markdown",
   "id": "658310ac",
   "metadata": {},
   "source": [
    "##### 類別特徵：計算樣本數最多類別占比"
   ]
  },
  {
   "cell_type": "code",
   "execution_count": null,
   "id": "243ec139",
   "metadata": {},
   "outputs": [
    {
     "data": {
      "application/vnd.microsoft.datawrangler.viewer.v0+json": {
       "columns": [
        {
         "name": "index",
         "rawType": "int64",
         "type": "integer"
        },
        {
         "name": "特徵",
         "rawType": "object",
         "type": "string"
        },
        {
         "name": "最多類別占比",
         "rawType": "float64",
         "type": "float"
        },
        {
         "name": "是否排除",
         "rawType": "bool",
         "type": "boolean"
        }
       ],
       "conversionMethod": "pd.DataFrame",
       "ref": "742d7214-64df-4b40-a78e-0600804cbf15",
       "rows": [
        [
         "0",
         "營業縣市",
         "0.1502",
         "False"
        ],
        [
         "1",
         "場所型式",
         "0.716",
         "False"
        ],
        [
         "2",
         "餐飲業次業別數",
         "0.8382",
         "False"
        ],
        [
         "3",
         "標章分數",
         "0.9196",
         "False"
        ],
        [
         "4",
         "場所規模",
         "0.6554",
         "False"
        ]
       ],
       "shape": {
        "columns": 3,
        "rows": 5
       }
      },
      "text/html": [
       "<div>\n",
       "<style scoped>\n",
       "    .dataframe tbody tr th:only-of-type {\n",
       "        vertical-align: middle;\n",
       "    }\n",
       "\n",
       "    .dataframe tbody tr th {\n",
       "        vertical-align: top;\n",
       "    }\n",
       "\n",
       "    .dataframe thead th {\n",
       "        text-align: right;\n",
       "    }\n",
       "</style>\n",
       "<table border=\"1\" class=\"dataframe\">\n",
       "  <thead>\n",
       "    <tr style=\"text-align: right;\">\n",
       "      <th></th>\n",
       "      <th>特徵</th>\n",
       "      <th>最多類別占比</th>\n",
       "      <th>是否排除</th>\n",
       "    </tr>\n",
       "  </thead>\n",
       "  <tbody>\n",
       "    <tr>\n",
       "      <th>0</th>\n",
       "      <td>營業縣市</td>\n",
       "      <td>0.1502</td>\n",
       "      <td>False</td>\n",
       "    </tr>\n",
       "    <tr>\n",
       "      <th>1</th>\n",
       "      <td>場所型式</td>\n",
       "      <td>0.7160</td>\n",
       "      <td>False</td>\n",
       "    </tr>\n",
       "    <tr>\n",
       "      <th>2</th>\n",
       "      <td>餐飲業次業別數</td>\n",
       "      <td>0.8382</td>\n",
       "      <td>False</td>\n",
       "    </tr>\n",
       "    <tr>\n",
       "      <th>3</th>\n",
       "      <td>標章分數</td>\n",
       "      <td>0.9196</td>\n",
       "      <td>False</td>\n",
       "    </tr>\n",
       "    <tr>\n",
       "      <th>4</th>\n",
       "      <td>場所規模</td>\n",
       "      <td>0.6554</td>\n",
       "      <td>False</td>\n",
       "    </tr>\n",
       "  </tbody>\n",
       "</table>\n",
       "</div>"
      ],
      "text/plain": [
       "        特徵  最多類別占比   是否排除\n",
       "0     營業縣市  0.1502  False\n",
       "1     場所型式  0.7160  False\n",
       "2  餐飲業次業別數  0.8382  False\n",
       "3     標章分數  0.9196  False\n",
       "4     場所規模  0.6554  False"
      ]
     },
     "execution_count": 25,
     "metadata": {},
     "output_type": "execute_result"
    }
   ],
   "source": [
    "# category & int8\n",
    "thres_cat = 1 - dict_dfs_pre['train']['y'].mean()\n",
    "cols_cat = list(X_train.select_dtypes(include='category').columns)\n",
    "topRatio_cat = [X_train[col].value_counts().max()/X_train.shape[0] for col in cols_cat]\n",
    "\n",
    "df_proxyVTRsl = pd.DataFrame(\n",
    "    data={\n",
    "        '特徵': cols_cat, \n",
    "        '最多類別占比': np.array(topRatio_cat).round(decimals=4), \n",
    "        '是否排除': [tr > thres_cat for tr in topRatio_cat]\n",
    "    }\n",
    ")\n"
   ]
  },
  {
   "cell_type": "code",
   "execution_count": null,
   "id": "42c2d96f",
   "metadata": {},
   "outputs": [],
   "source": []
  },
  {
   "cell_type": "code",
   "execution_count": null,
   "id": "2fc45316",
   "metadata": {},
   "outputs": [],
   "source": []
  },
  {
   "cell_type": "markdown",
   "id": "3e4416e7",
   "metadata": {},
   "source": [
    "##### 特徵編碼"
   ]
  },
  {
   "cell_type": "code",
   "execution_count": null,
   "id": "1b08a50b",
   "metadata": {},
   "outputs": [],
   "source": [
    "# 各編碼所使用特徵名稱\n",
    "cols_to_DumEnc = [col for col in X_train.select_dtypes(include='category').columns if not X_train[col].dtype.ordered]\n",
    "cols_to_OrdEnc = [col for col in X_train.select_dtypes(include='category').columns if X_train[col].dtype.ordered]\n",
    "\n",
    "# 編碼流程\n",
    "enc_trans = make_column_transformer(\n",
    "    (OneHotEncoder(drop='first', dtype='uint8', sparse_output=False), cols_to_DumEnc),    # dummy encoding\n",
    "    (OrdinalEncoder(dtype='uint8'), cols_to_OrdEnc),    # uint8: 0 to (2**8)-1 (recommend)\n",
    "    remainder='passthrough',    # 略過剩餘欄位\n",
    "    force_int_remainder_cols=False,    # corresponds to the `remainder` (default: True)\n",
    "    verbose_feature_names_out=False    # 去掉 transformer 前綴\n",
    ").set_output(transform='pandas')    #輸出 dataframe\n",
    "\n",
    "# enc_trans.fit(X_train)    # fit training set\n",
    "# X_enc = enc_trans.transform(X_train)    # transform training set\n",
    "\n",
    "X_enc = enc_trans.fit_transform(X_train)"
   ]
  },
  {
   "cell_type": "markdown",
   "id": "accc912c",
   "metadata": {},
   "source": [
    "##### 特徵縮放"
   ]
  },
  {
   "cell_type": "code",
   "execution_count": null,
   "id": "5ef2aa2a",
   "metadata": {},
   "outputs": [],
   "source": [
    "# 縮放特徵名稱\n",
    "cols_to_scale = list(X_enc.select_dtypes(include='uint32').columns) + cols_to_OrdEnc\n",
    "\n",
    "# 建立 MinMaxScaler 物件\n",
    "mms = MinMaxScaler(feature_range=(0, 1)).set_output(transform='pandas')    # default feature_range\n",
    "\n",
    "# 執行特徵縮放\n",
    "X_scale = mms.fit_transform(X_enc[cols_to_scale]).astype('float32')    # no need to fit testing set\n",
    "\n",
    "X_vt0 = pd.concat([X_scale, X_enc.drop(cols_to_scale, axis=1)], axis=1)"
   ]
  },
  {
   "cell_type": "code",
   "execution_count": null,
   "id": "7c8cd177",
   "metadata": {},
   "outputs": [],
   "source": [
    "del cols_to_DumEnc, cols_to_OrdEnc, mms, X_scale#, X_train"
   ]
  },
  {
   "cell_type": "markdown",
   "id": "9ab29114",
   "metadata": {},
   "source": [
    "##### 特徵篩選"
   ]
  },
  {
   "cell_type": "code",
   "execution_count": null,
   "id": "6376907a",
   "metadata": {},
   "outputs": [],
   "source": [
    "# 以查獲逾期食品案件比例作為特徵篩選門檻\n",
    "t = dict_dfs_pre['train']['y'].mean()\n",
    "\n",
    "# 建立（初始化） VarianceThreshold 物件：物件名稱 = 類別名稱()\n",
    "vt = VarianceThreshold(threshold=t).set_output(transform='pandas')    # default 0.0\n",
    "\n",
    "# 執行篩選\n",
    "X_vt = vt.fit_transform(X_vt0)"
   ]
  },
  {
   "cell_type": "code",
   "execution_count": null,
   "id": "e881d8ee",
   "metadata": {},
   "outputs": [],
   "source": [
    "print(f'variance threshold: {t:.4f}')\n",
    "\n",
    "# 特徵篩選及 variance 計算結果\n",
    "df_vtRsl = pd.DataFrame(\n",
    "    data = {\n",
    "        '特徵': list(X_vt0.columns), \n",
    "        '變異數': list(np.var(X_vt0, axis=0).round(decimals=4)), \n",
    "        '是否排除': [False if c in X_vt.columns else True for c in X_vt0.columns]\n",
    "    }, \n",
    ")"
   ]
  },
  {
   "cell_type": "markdown",
   "id": "7f9ba2db",
   "metadata": {},
   "source": [
    "##### 建立特徵篩選後的訓練集\n",
    "須維持特徵原始樣貌，以進行資料不平衡處理。"
   ]
  },
  {
   "cell_type": "code",
   "execution_count": null,
   "id": "3c3ae7b4",
   "metadata": {},
   "outputs": [],
   "source": [
    "# 編碼特徵 reverse"
   ]
  },
  {
   "cell_type": "code",
   "execution_count": null,
   "id": "26851464",
   "metadata": {},
   "outputs": [],
   "source": [
    "X_train_select = pd.concat([X_enc[cols_to_scale], X_vt.drop(cols_to_scale, axis=1, errors='ignore')], axis=1)"
   ]
  },
  {
   "cell_type": "code",
   "execution_count": null,
   "id": "b61d0c8c",
   "metadata": {},
   "outputs": [],
   "source": [
    "del cols_to_scale, X_enc, X_vt0, vt, X_vt"
   ]
  },
  {
   "cell_type": "markdown",
   "id": "03d86aac",
   "metadata": {},
   "source": [
    "##### 建立特徵篩選後的測試集\n",
    "測試集不得用於特徵篩選流程。"
   ]
  },
  {
   "cell_type": "code",
   "execution_count": null,
   "id": "629c7746",
   "metadata": {},
   "outputs": [],
   "source": [
    "X_test = dict_dfs_pre['test']['X']\n",
    "\n",
    "# 套用訓練集特徵篩選結果\n",
    "cols_drop = df_vtRsl[df_vtRsl['是否排除']]['特徵'].values\n",
    "X_test_select = enc_trans.transform(X_test).drop(cols_drop, axis=1)"
   ]
  },
  {
   "cell_type": "code",
   "execution_count": null,
   "id": "85f188a0",
   "metadata": {},
   "outputs": [],
   "source": [
    "del enc_trans, cols_drop, X_test"
   ]
  },
  {
   "cell_type": "markdown",
   "id": "09cafd8d",
   "metadata": {},
   "source": [
    "### Data Save"
   ]
  },
  {
   "cell_type": "code",
   "execution_count": null,
   "id": "4398ab88",
   "metadata": {},
   "outputs": [],
   "source": [
    "dict_dfs_pre['train']['X_select'] = X_train_select\n",
    "dict_dfs_pre['test']['X_select'] = X_test_select\n",
    "dict_vt = {'vt': t, 'result': df_vtRsl}\n",
    "dict_dfs_pre['feature_selection'] = dict_vt\n",
    "\n",
    "# pd.to_pickle(dict_dfs_pre, '../data/data_fs.pkl')"
   ]
  }
 ],
 "metadata": {
  "kernelspec": {
   "display_name": "Python 3",
   "language": "python",
   "name": "python3"
  },
  "language_info": {
   "codemirror_mode": {
    "name": "ipython",
    "version": 3
   },
   "file_extension": ".py",
   "mimetype": "text/x-python",
   "name": "python",
   "nbconvert_exporter": "python",
   "pygments_lexer": "ipython3",
   "version": "3.11.5"
  }
 },
 "nbformat": 4,
 "nbformat_minor": 5
}
