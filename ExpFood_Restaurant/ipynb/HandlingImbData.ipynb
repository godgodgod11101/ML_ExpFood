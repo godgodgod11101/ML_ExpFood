{
 "cells": [
  {
   "cell_type": "markdown",
   "id": "dcb5ae88",
   "metadata": {},
   "source": [
    "## 資料不平衡處理"
   ]
  },
  {
   "cell_type": "markdown",
   "id": "2ded152c",
   "metadata": {},
   "source": [
    "### Package"
   ]
  },
  {
   "cell_type": "code",
   "execution_count": 1,
   "id": "ac8021f6",
   "metadata": {},
   "outputs": [],
   "source": [
    "import numpy as np\n",
    "import pandas as pd\n",
    "import matplotlib.pyplot as plt\n",
    "\n",
    "from imblearn.over_sampling import SMOTENC"
   ]
  },
  {
   "cell_type": "markdown",
   "id": "fea531ea",
   "metadata": {},
   "source": [
    "### Data Import"
   ]
  },
  {
   "cell_type": "code",
   "execution_count": 2,
   "id": "b8a8627b",
   "metadata": {},
   "outputs": [
    {
     "name": "stdout",
     "output_type": "stream",
     "text": [
      "dict_keys(['others', 'train', 'test', 'feature_selection'])\n"
     ]
    }
   ],
   "source": [
    "dict_dfs_fs = pd.read_pickle('../data/data_fs.pkl')\n",
    "print(dict_dfs_fs.keys())"
   ]
  },
  {
   "cell_type": "code",
   "execution_count": 3,
   "id": "06b4572b",
   "metadata": {},
   "outputs": [],
   "source": [
    "X_train = dict_dfs_fs['train']['X_select']\n",
    "y_train = dict_dfs_fs['train']['y']"
   ]
  },
  {
   "cell_type": "markdown",
   "id": "d3f3c70a",
   "metadata": {},
   "source": [
    "### Data Visualize"
   ]
  },
  {
   "cell_type": "code",
   "execution_count": 4,
   "id": "acc183e0",
   "metadata": {},
   "outputs": [],
   "source": [
    "# 設定字型（以顯示中文）\n",
    "plt.rcParams['font.family'] = 'Noto Sans TC'    # 思源黑體"
   ]
  },
  {
   "cell_type": "code",
   "execution_count": null,
   "id": "c010b8ca",
   "metadata": {},
   "outputs": [],
   "source": []
  },
  {
   "cell_type": "code",
   "execution_count": 9,
   "id": "b243471f",
   "metadata": {},
   "outputs": [
    {
     "data": {
      "image/png": "[encoded data removed]",
      "text/plain": [
       "<Figure size 300x300 with 1 Axes>"
      ]
     },
     "metadata": {},
     "output_type": "display_data"
    }
   ],
   "source": [
    "# plot data\n",
    "pieData = y_train.value_counts()\n",
    "\n",
    "# plot\n",
    "fig, ax = plt.subplots(figsize=(3, 3))\n",
    "\n",
    "wedges, texts, autotexts= ax.pie(\n",
    "    pieData.values, \n",
    "    labels=pieData.index.astype('str'), \n",
    "    autopct=lambda pct: f'{pct: .2f}%', \n",
    "    textprops=dict(color='w')\n",
    ")\n",
    "# wedges: 扇形物件，調整扇形參數\n",
    "# texts: 設定 labels 產生的文字物件\n",
    "# autotexts: 設定 autopct 產生的文字物件\n",
    "\n",
    "# ax.legend(\n",
    "#     wedges, pieData.index.astype('str'), \n",
    "#     title = '是否違規', \n",
    "#     loc = 'center right', \n",
    "#     bbox_to_anchor = (1, 0.5)\n",
    "# )\n",
    "\n",
    "ax.set_title('Target', fontsize=16)\n",
    "\n",
    "# show\n",
    "fig.tight_layout()\n",
    "plt.show()"
   ]
  },
  {
   "cell_type": "code",
   "execution_count": null,
   "id": "12eb7699",
   "metadata": {},
   "outputs": [],
   "source": []
  },
  {
   "cell_type": "code",
   "execution_count": null,
   "id": "62406fd8",
   "metadata": {},
   "outputs": [],
   "source": []
  },
  {
   "cell_type": "markdown",
   "id": "c1fb0eb3",
   "metadata": {},
   "source": [
    "### Handling Imbalanced Datasets\n",
    "以 SMOTENC 進行資..."
   ]
  },
  {
   "cell_type": "code",
   "execution_count": null,
   "id": "067b76df",
   "metadata": {},
   "outputs": [],
   "source": [
    "# 先將數值資料轉為 float ，合成樣本後再四捨五入，避免向零截斷（truncation toward zero）\n",
    "cols_num = ['資本額', '餐飲業次業別數', '標章分數', '場所規模']\n",
    "X_sm0 = pd.concat([X_train[cols_num].astype('float32'), X_train.drop(cols_num, axis=1)], axis=1)"
   ]
  }
 ],
 "metadata": {
  "kernelspec": {
   "display_name": "Python 3",
   "language": "python",
   "name": "python3"
  },
  "language_info": {
   "codemirror_mode": {
    "name": "ipython",
    "version": 3
   },
   "file_extension": ".py",
   "mimetype": "text/x-python",
   "name": "python",
   "nbconvert_exporter": "python",
   "pygments_lexer": "ipython3",
   "version": "3.11.5"
  }
 },
 "nbformat": 4,
 "nbformat_minor": 5
}
