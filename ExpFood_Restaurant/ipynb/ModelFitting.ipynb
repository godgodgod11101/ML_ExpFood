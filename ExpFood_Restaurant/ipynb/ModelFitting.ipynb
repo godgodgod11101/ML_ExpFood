{
 "cells": [
  {
   "cell_type": "markdown",
   "id": "9440ca63",
   "metadata": {},
   "source": [
    "# 餐飲業逾期風險預測模型\n",
    "由我國「應建立食品追溯追蹤系統之食品業者」規定可知，須申報食品流向資料於本署非追不可系統多為製造與輸入業者，對於販售與餐飲業者則無相關資料可用，無法推算其庫存，進而評估其是否可能存放逾期食品。因此，針對販售與餐飲業者，則透過後市場稽查資料及業者相關資訊，嘗試以監督式學習方法建構業者逾期食品違規風險預測模型，而此處為餐飲業資料的建模評估。"
   ]
  },
  {
   "cell_type": "markdown",
   "id": "2ad32348",
   "metadata": {},
   "source": [
    "### 程式架構\n",
    "* 資料前處理(Preprocessing.ipynb)\n",
    "* 特徵篩選(ModelFitting.ipynb)\n",
    "* **模型配適(FeatureSelection.ipynb)**"
   ]
  },
  {
   "cell_type": "markdown",
   "id": "588087b3",
   "metadata": {},
   "source": [
    "## 模型配適"
   ]
  },
  {
   "cell_type": "markdown",
   "id": "2d778883",
   "metadata": {},
   "source": [
    "### Package"
   ]
  },
  {
   "cell_type": "code",
   "execution_count": 1,
   "id": "a0209b7e",
   "metadata": {},
   "outputs": [],
   "source": [
    "import numpy as np\n",
    "import pandas as pd\n",
    "import matplotlib.pyplot as plt\n",
    "\n",
    "from sklearn.linear_model import LogisticRegression\n",
    "from sklearn.metrics import ConfusionMatrixDisplay"
   ]
  },
  {
   "cell_type": "markdown",
   "id": "f6bc5881",
   "metadata": {},
   "source": [
    "### Data Import"
   ]
  },
  {
   "cell_type": "code",
   "execution_count": 3,
   "id": "41093393",
   "metadata": {},
   "outputs": [
    {
     "name": "stdout",
     "output_type": "stream",
     "text": [
      "dict_keys(['others', 'train', 'test', 'feature_selection'])\n"
     ]
    }
   ],
   "source": [
    "dict_dfs_fs = pd.read_pickle('../data/data_fs.pkl')\n",
    "print(dict_dfs_fs.keys())"
   ]
  },
  {
   "cell_type": "code",
   "execution_count": 4,
   "id": "8a06bdab",
   "metadata": {},
   "outputs": [],
   "source": [
    "# training set\n",
    "X_train = dict_dfs_fs['train']['X_select']\n",
    "y_train = dict_dfs_fs['train']['y']\n",
    "\n",
    "# testing set\n",
    "X_test = dict_dfs_fs['test']['X_select']\n",
    "y_test = dict_dfs_fs['test']['y']"
   ]
  },
  {
   "cell_type": "markdown",
   "id": "b70bd27e",
   "metadata": {},
   "source": [
    "### Handling Imbalanced Datasets\n",
    "以 SMOTENC 進行資..."
   ]
  },
  {
   "cell_type": "code",
   "execution_count": 5,
   "id": "de067315",
   "metadata": {},
   "outputs": [],
   "source": [
    "from imblearn.over_sampling import SMOTENC"
   ]
  },
  {
   "cell_type": "code",
   "execution_count": 6,
   "id": "d0112fff",
   "metadata": {},
   "outputs": [],
   "source": [
    "# 先將數值資料轉為 float ，合成樣本後再四捨五入，避免向零截斷（truncation toward zero）\n",
    "cols_num = ['資本額', '餐飲業次業別數', '標章分數', '場所規模']\n",
    "X_sm0 = pd.concat([X_train[cols_num].astype('float32'), X_train.drop(cols_num, axis=1)], axis=1)"
   ]
  },
  {
   "cell_type": "code",
   "execution_count": 9,
   "id": "8dab7335",
   "metadata": {},
   "outputs": [],
   "source": [
    "# 類別特徵名稱\n",
    "cols_cat = list(X_train.drop(labels=cols_num, axis=1).columns)\n",
    "\n",
    "# 建立 SMOTENC 物件\n",
    "sm = SMOTENC(\n",
    "    categorical_features=cols_cat,    # 指定類別特徵\n",
    "    sampling_strategy=3/7,    # minor/major\n",
    "    random_state=423\n",
    ")\n",
    "\n",
    "# 合成樣本（加在原始資料後）\n",
    "X_sm, y_sm = sm.fit_resample(X_sm0, y_train)\n",
    "X_sm = X_sm.round(0)"
   ]
  },
  {
   "cell_type": "code",
   "execution_count": 10,
   "id": "dd41b389",
   "metadata": {},
   "outputs": [],
   "source": [
    "del X_sm0, cols_cat, sm"
   ]
  },
  {
   "cell_type": "code",
   "execution_count": null,
   "id": "59df7aa7",
   "metadata": {},
   "outputs": [
    {
     "name": "stdout",
     "output_type": "stream",
     "text": [
      "Index(['資本額', '餐飲業次業別數', '標章分數', '場所規模', '營業縣市_台中市', '營業縣市_台北市', '營業縣市_台南市',\n",
      "       '營業縣市_台東縣', '營業縣市_嘉義市', '營業縣市_嘉義縣', '營業縣市_基隆市', '營業縣市_宜蘭縣', '營業縣市_屏東縣',\n",
      "       '營業縣市_彰化縣', '營業縣市_新北市', '營業縣市_新竹市', '營業縣市_新竹縣', '營業縣市_桃園市', '營業縣市_澎湖縣',\n",
      "       '營業縣市_花蓮縣', '營業縣市_苗栗縣', '營業縣市_連江縣', '營業縣市_金門縣', '營業縣市_雲林縣', '營業縣市_高雄市',\n",
      "       '場所型式_b', '場所型式_c', '場所型式_d', '是否兼具製造業', '是否兼具販售業', '上市上櫃', '導入HACCP',\n",
      "       '導入ISO22000', '來源流向管理', '投保責任險', '倉儲', '食添法規認知', '逾期食品法規認知', '有直營連鎖店',\n",
      "       '有加盟連鎖店', '同一地址有多個餐飲場所', '有餐飲場所且有工廠製造場所', '有餐飲場所且委託他廠代工', '美食平台',\n",
      "       '有無專技人員', '有無技術士證照'],\n",
      "      dtype='object')\n"
     ]
    },
    {
     "data": {
      "text/plain": [
       "np.int64(0)"
      ]
     },
     "execution_count": 21,
     "metadata": {},
     "output_type": "execute_result"
    }
   ],
   "source": [
    "# # 檢測 dummy encoding 特徵\n",
    "# print(X_sm.columns)\n",
    "\n",
    "# (X_sm.filter(like='場所型式', axis=1).sum(axis=1) > 1).sum()"
   ]
  },
  {
   "cell_type": "markdown",
   "id": "f617228b",
   "metadata": {},
   "source": [
    "### Standardization"
   ]
  },
  {
   "cell_type": "code",
   "execution_count": 8,
   "id": "9282ce01",
   "metadata": {},
   "outputs": [],
   "source": [
    "from sklearn.preprocessing import StandardScaler"
   ]
  },
  {
   "cell_type": "code",
   "execution_count": 11,
   "id": "49ff29d7",
   "metadata": {},
   "outputs": [],
   "source": [
    "ss = StandardScaler().set_output(transform='pandas')\n",
    "\n",
    "ss.fit(X_train[cols_num])    # 須以原始訓練集特徵做縮放依據\n",
    "\n",
    "def scalar_df(df, cols, scalar): \n",
    "    df_scale = scalar.transform(df[cols])\n",
    "    df_notScale = df.drop(cols, axis=1)\n",
    "    df_rsl = pd.concat([df_scale, df_notScale], axis=1)\n",
    "    return df_rsl\n",
    "\n",
    "X_sm_ss = scalar_df(df=X_sm, cols=cols_num, scalar=ss)\n",
    "X_test_ss = scalar_df(df=X_test, cols=cols_num, scalar=ss)"
   ]
  },
  {
   "cell_type": "code",
   "execution_count": 12,
   "id": "f45a8215",
   "metadata": {},
   "outputs": [],
   "source": [
    "del cols_num, ss, X_sm, X_test"
   ]
  },
  {
   "cell_type": "markdown",
   "id": "f651404c",
   "metadata": {},
   "source": [
    "### Shuffle"
   ]
  },
  {
   "cell_type": "code",
   "execution_count": 13,
   "id": "323b6375",
   "metadata": {},
   "outputs": [],
   "source": [
    "from sklearn.utils import shuffle"
   ]
  },
  {
   "cell_type": "code",
   "execution_count": 14,
   "id": "fc4ded9c",
   "metadata": {},
   "outputs": [],
   "source": [
    "y_sm, X_sm_ss = shuffle(y_sm, X_sm_ss, random_state=426)"
   ]
  },
  {
   "cell_type": "markdown",
   "id": "863056e0",
   "metadata": {},
   "source": [
    "### Model Fitting: Logistic Regression (with L1 penalty) "
   ]
  },
  {
   "cell_type": "code",
   "execution_count": 15,
   "id": "0a8ceef3",
   "metadata": {},
   "outputs": [],
   "source": [
    "\n",
    "def fit_lgs_l1(X, y): \n",
    "    mdl = LogisticRegression(penalty='l1', solver='liblinear', max_iter=100, random_state=422)\n",
    "    mdl.fit(X, y)\n",
    "    return mdl\n",
    "\n",
    "lgs_sm = fit_lgs_l1(X_sm_ss, y_sm)"
   ]
  },
  {
   "cell_type": "markdown",
   "id": "72e2c9a6",
   "metadata": {},
   "source": [
    "### Evaluation"
   ]
  },
  {
   "cell_type": "code",
   "execution_count": 16,
   "id": "b668f007",
   "metadata": {},
   "outputs": [
    {
     "data": {
      "text/plain": [
       "Index(['資本額', '標章分數', '投保責任險', '有無技術士證照'], dtype='object')"
      ]
     },
     "execution_count": 16,
     "metadata": {},
     "output_type": "execute_result"
    }
   ],
   "source": [
    "# 採用特徵\n",
    "X_sm_ss.columns[lgs_sm.coef_.flatten() > 0]"
   ]
  },
  {
   "cell_type": "code",
   "execution_count": null,
   "id": "812831d1",
   "metadata": {},
   "outputs": [],
   "source": [
    "# 預測結果\n",
    "def result_df(model, X_test, y_test): \n",
    "    \n",
    "    df_rsl = pd.DataFrame(\n",
    "        {'Actual': y_test.reset_index(drop=True), \n",
    "         'PredProb': model.predict_proba(X_test)[:, 1].round(4)}, \n",
    "    )\n",
    "\n",
    "    df_rsl['PredProbRank'] = df_rsl['PredProb'].rank(method='min', ascending=False).astype('uint16')\n",
    "\n",
    "    return df_rsl\n",
    "\n",
    "df_rsl = result_df(model=lgs_sm, X_test=X_test_ss, y_test=y_test)\n"
   ]
  },
  {
   "cell_type": "markdown",
   "id": "7e806b83",
   "metadata": {},
   "source": [
    "* ROC"
   ]
  },
  {
   "cell_type": "code",
   "execution_count": 24,
   "id": "49f56350",
   "metadata": {},
   "outputs": [
    {
     "data": {
      "image/png": "[encoded data removed]",
      "text/plain": [
       "<Figure size 640x480 with 1 Axes>"
      ]
     },
     "metadata": {},
     "output_type": "display_data"
    }
   ],
   "source": [
    "def tprp_rate(actual, pred_prob): \n",
    "    \n",
    "    # true positive rate\n",
    "    ntp = np.array([((actual == 1) & (pred_prob > thr)).sum() for thr in np.linspace(1, 0, 1001)])\n",
    "    rtp = ntp / actual.sum()\n",
    "    \n",
    "    # false positive rate\n",
    "    nfp = np.array([((actual == 0) & (pred_prob > thr)).sum() for thr in np.linspace(1, 0, 1001)])\n",
    "    rfp = nfp / (actual == 0).sum()\n",
    "\n",
    "    # 補點 (1, 1) ，避免預測機率為 0 情況\n",
    "    rtp = np.append(rtp, 1.0)\n",
    "    rfp = np.append(rfp, 1.0)\n",
    "\n",
    "    return rtp, rfp\n",
    "\n",
    "rtp_sm, rfp_sm = tprp_rate(actual=df_rsl['Actual'], pred_prob=df_rsl['PredProb'])\n",
    "\n",
    "plt.plot(np.linspace(0, 1, 3), np.linspace(0, 1, 3), 'k--')\n",
    "plt.plot(rfp_sm, rtp_sm)\n",
    "\n",
    "plt.title('ROC Curve')\n",
    "plt.xlabel('False Positive Rate')\n",
    "plt.ylabel(\"True Positive Rate\")\n",
    "plt.show()"
   ]
  },
  {
   "cell_type": "code",
   "execution_count": null,
   "id": "6edac0d2",
   "metadata": {},
   "outputs": [],
   "source": []
  },
  {
   "cell_type": "code",
   "execution_count": null,
   "id": "0b2655fb",
   "metadata": {},
   "outputs": [],
   "source": []
  },
  {
   "cell_type": "markdown",
   "id": "3b2a2c76",
   "metadata": {},
   "source": [
    "* Confusion Matrix"
   ]
  },
  {
   "cell_type": "code",
   "execution_count": null,
   "id": "4dafa899",
   "metadata": {},
   "outputs": [],
   "source": [
    "# 設定閾值為預測機率排序前 200 名\n",
    "df_rsl['預測排序'] = df_rsl['預測機率'].rank(method='min', ascending=False).astype('uint16')\n",
    "df_rsl['預測結果_by排序'] = (df_rsl['預測排序'] <= 200).astype('uint8')    # Pandas Vectorization"
   ]
  },
  {
   "cell_type": "code",
   "execution_count": null,
   "id": "5dfc8b9b",
   "metadata": {},
   "outputs": [],
   "source": [
    "# 建立混淆矩陣\n",
    "tp = df_rsl[(df_rsl['真實值'] == 1) & (df_rsl['預測結果_by排序'] == 1)].shape[0]\n",
    "fp = df_rsl[(df_rsl['真實值'] == 0) & (df_rsl['預測結果_by排序'] == 1)].shape[0]\n",
    "fn = df_rsl[(df_rsl['真實值'] == 1) & (df_rsl['預測結果_by排序'] == 0)].shape[0]\n",
    "tn = df_rsl[(df_rsl['真實值'] == 0) & (df_rsl['預測結果_by排序'] == 0)].shape[0]\n",
    "\n",
    "# 橫軸 Actual，縱軸 Predicted，左上 True Positive\n",
    "nda_cm = np.array([[tp, fp], [fn, tn]])\n",
    "nda_cm"
   ]
  },
  {
   "cell_type": "code",
   "execution_count": null,
   "id": "846a451f",
   "metadata": {},
   "outputs": [],
   "source": [
    "# Evaluation Metrics\n",
    "precision = tp / (tp+fp)\n",
    "recall = tp / (tp+fn)\n",
    "f1 = 2 / ((1/precision) + (1/recall))\n",
    "\n",
    "print(f'precision: {precision: .4f} \\nrecall: {recall: .4f} \\nf1-score: {f1: .4f}')"
   ]
  },
  {
   "cell_type": "code",
   "execution_count": null,
   "id": "1b9cf0f2",
   "metadata": {},
   "outputs": [],
   "source": [
    "# 繪製混淆矩陣\n",
    "cm_labels = np.array(['違規', '非違規'])\n",
    "disp = ConfusionMatrixDisplay(nda_cm, display_labels=cm_labels)\n",
    "\n",
    "# 設定中文字型（整體）\n",
    "plt.rcParams['font.family'] = 'Microsoft JhengHei'\n",
    "\n",
    "# 設定顏色\n",
    "disp.plot(cmap='Blues')\n",
    "\n",
    "# 設定軸標題\n",
    "plt.xlabel(\"Actual\", fontsize=12)\n",
    "plt.ylabel(\"Predicted\", fontsize=12)\n",
    "\n",
    "# 設定標題\n",
    "score_string = f'Precision: {precision: .4f} | Recall: {recall: .4f} | F1-score: {f1: .4f}'\n",
    "plt.title('Confusion Matrix\\n' + score_string)\n",
    "\n",
    "plt.show()"
   ]
  },
  {
   "cell_type": "code",
   "execution_count": null,
   "id": "4abb9546",
   "metadata": {},
   "outputs": [],
   "source": []
  },
  {
   "cell_type": "code",
   "execution_count": null,
   "id": "2aa6a214",
   "metadata": {},
   "outputs": [],
   "source": []
  },
  {
   "cell_type": "code",
   "execution_count": null,
   "id": "e1c3efe8",
   "metadata": {},
   "outputs": [],
   "source": []
  },
  {
   "cell_type": "code",
   "execution_count": null,
   "id": "644ed12c",
   "metadata": {},
   "outputs": [],
   "source": [
    "# 違規案件預測結果排序\n",
    "df_rsl = pd.DataFrame(\n",
    "    {'真實值': y_test, \n",
    "     '預測機率': lgs.predict_proba(X_test_ss)[:, 1].round(4), \n",
    "     '預測機率(SMOTE)': lgs_sm.predict_proba(X_test_ss)[:, 1].round(4)}\n",
    ")\n",
    "\n",
    "i = 0\n",
    "for id, real, prob1, prob2 in df_rsl.sort_values(by='預測機率', ascending=False).itertuples(): \n",
    "    i += 1\n",
    "    if real: \n",
    "        print(f'第{id}筆資料為{real}，預測機率為{prob1}，預測機率(SMOTE)為{prob2}，排序在第{i}位')\n"
   ]
  }
 ],
 "metadata": {
  "kernelspec": {
   "display_name": "Python 3",
   "language": "python",
   "name": "python3"
  },
  "language_info": {
   "codemirror_mode": {
    "name": "ipython",
    "version": 3
   },
   "file_extension": ".py",
   "mimetype": "text/x-python",
   "name": "python",
   "nbconvert_exporter": "python",
   "pygments_lexer": "ipython3",
   "version": "3.11.5"
  }
 },
 "nbformat": 4,
 "nbformat_minor": 5
}
