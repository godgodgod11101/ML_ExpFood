{
 "cells": [
  {
   "cell_type": "code",
   "execution_count": 1,
   "id": "c11e514a",
   "metadata": {},
   "outputs": [],
   "source": [
    "from matplotlib import font_manager"
   ]
  },
  {
   "cell_type": "code",
   "execution_count": null,
   "id": "88ea1eb7",
   "metadata": {},
   "outputs": [
    {
     "name": "stdout",
     "output_type": "stream",
     "text": [
      "Microsoft JhengHei||Microsoft YaHei||Microsoft YaHei||Microsoft JhengHei||Microsoft YaHei||Microsoft JhengHei||\n",
      "MingLiU-ExtB||MingLiU||\n",
      "STKaiti||DFKai-SB||\n",
      "SimSun-ExtG||SimSun-ExtB||SimSun||\n"
     ]
    }
   ],
   "source": [
    "# 中文字體\n",
    "font_kw = ['Hei', 'Ming', 'Kai', 'Sun']\n",
    "\n",
    "for kw in font_kw:\n",
    "    for font in font_manager.fontManager.ttflist: \n",
    "        if kw in font.name: \n",
    "            print(f'{font.name}', end='||')\n",
    "    print()\n",
    "    "
   ]
  }
 ],
 "metadata": {
  "kernelspec": {
   "display_name": "Python 3",
   "language": "python",
   "name": "python3"
  },
  "language_info": {
   "codemirror_mode": {
    "name": "ipython",
    "version": 3
   },
   "file_extension": ".py",
   "mimetype": "text/x-python",
   "name": "python",
   "nbconvert_exporter": "python",
   "pygments_lexer": "ipython3",
   "version": "3.11.5"
  }
 },
 "nbformat": 4,
 "nbformat_minor": 5
}
