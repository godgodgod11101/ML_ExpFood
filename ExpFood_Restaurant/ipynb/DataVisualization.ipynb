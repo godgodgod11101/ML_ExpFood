{
 "cells": [
  {
   "cell_type": "code",
   "execution_count": 1,
   "id": "21e00c47",
   "metadata": {},
   "outputs": [],
   "source": [
    "import numpy as np\n",
    "import pandas as pd\n",
    "import matplotlib.pyplot as plt"
   ]
  },
  {
   "cell_type": "markdown",
   "id": "5796f63e",
   "metadata": {},
   "source": [
    "### Data Import"
   ]
  },
  {
   "cell_type": "code",
   "execution_count": 2,
   "id": "99fea3a9",
   "metadata": {},
   "outputs": [
    {
     "data": {
      "text/plain": [
       "dict_keys(['others', 'train', 'test'])"
      ]
     },
     "execution_count": 2,
     "metadata": {},
     "output_type": "execute_result"
    }
   ],
   "source": [
    "dict_dfs_pre = pd.read_pickle('../data/data_pre.pkl')\n",
    "dict_dfs_pre.keys()"
   ]
  },
  {
   "cell_type": "code",
   "execution_count": 3,
   "id": "bc7df2dd",
   "metadata": {},
   "outputs": [],
   "source": [
    "X_train = dict_dfs_pre['train']['X']"
   ]
  },
  {
   "cell_type": "markdown",
   "id": "032eec3a",
   "metadata": {},
   "source": [
    "### Data Visualize"
   ]
  },
  {
   "cell_type": "code",
   "execution_count": 4,
   "id": "2a7afe36",
   "metadata": {},
   "outputs": [],
   "source": [
    "# 設定字型（已顯示中文）\n",
    "plt.rcParams['font.family'] = 'Noto Sans TC'"
   ]
  },
  {
   "cell_type": "code",
   "execution_count": 5,
   "id": "61c85c7c",
   "metadata": {},
   "outputs": [],
   "source": [
    "# 二元變數分布資料表\n",
    "def count_01_features(df): \n",
    "    \n",
    "    dict_01FeaCt = {}\n",
    "\n",
    "    for col in df.columns: \n",
    "        ser_ct = df[col].value_counts()\n",
    "        ct_col = ser_ct.index.name\n",
    "        ct0 = ser_ct.loc[0] if 0 in ser_ct.index else 0\n",
    "        ct1 = ser_ct.loc[1] if 1 in ser_ct.index else 0\n",
    "        dict_01FeaCt[ct_col] = [ct0, ct1]\n",
    "\n",
    "    df_01FeaCt = pd.DataFrame(dict_01FeaCt, index=['No', 'Yes'])\n",
    "    return df_01FeaCt\n",
    "\n",
    "df_01FeaCt = count_01_features(df=X_train.select_dtypes(include='uint8'))\n"
   ]
  },
  {
   "cell_type": "code",
   "execution_count": null,
   "id": "5236e30d",
   "metadata": {},
   "outputs": [
    {
     "data": {
      "text/plain": [
       "'是否兼具製造業'"
      ]
     },
     "execution_count": 20,
     "metadata": {},
     "output_type": "execute_result"
    }
   ],
   "source": []
  },
  {
   "cell_type": "code",
   "execution_count": 25,
   "id": "f7b371e5",
   "metadata": {},
   "outputs": [
    {
     "data": {
      "image/png": "[encoded data removed]",
      "text/plain": [
       "<Figure size 1600x720 with 30 Axes>"
      ]
     },
     "metadata": {},
     "output_type": "display_data"
    }
   ],
   "source": [
    "# 畫格\n",
    "naxs = len(df_01FeaCt.columns)\n",
    "ncols = 10\n",
    "nrows = (naxs // ncols) + 1 if naxs % ncols > 0 else (naxs // ncols)\n",
    "figsize = (1.6*ncols, 2.4*nrows)\n",
    "\n",
    "fig, axs = plt.subplots(ncols=ncols, nrows=nrows, figsize=figsize)\n",
    "\n",
    "# for i in range(nrows): \n",
    "#     for j in range(ncols): \n",
    "        \n",
    "#         title = df_01FeaCt.columns[10*i+j]\n",
    "#         print(title)\n",
    "    \n",
    "#     if (10*i+j) > naxs: break\n"
   ]
  },
  {
   "cell_type": "code",
   "execution_count": null,
   "id": "bf2d2d42",
   "metadata": {},
   "outputs": [],
   "source": [
    "count_BooFea = X_train['是否兼具製造業'].value_counts()\n",
    "barx = np.array(count_BooFea.index).astype(np.str_)\n",
    "barh = count_BooFea.values\n",
    "title = count_BooFea.index.name\n",
    "\n",
    "# Figure\n",
    "fig, ax = plt.subplots(figsize=(1.6, 2.4))\n",
    "\n",
    "ax.bar(x=barx, height=barh, width=.6)\n",
    "\n",
    "ax.set_ylabel(ylabel='Count', fontsize=12)\n",
    "ax.set_title(label=title, fontsize=14)\n",
    "\n",
    "fig.tight_layout()\n",
    "plt.show()"
   ]
  },
  {
   "cell_type": "code",
   "execution_count": null,
   "id": "e9f5e0eb",
   "metadata": {},
   "outputs": [],
   "source": []
  },
  {
   "cell_type": "code",
   "execution_count": null,
   "id": "d4463729",
   "metadata": {},
   "outputs": [],
   "source": [
    "# Data\n",
    "count_CatFea = X_train['營業縣市'].value_counts()\n",
    "barx = np.array(count_CatFea.index)\n",
    "bary = count_CatFea.values\n",
    "\n",
    "# Figure\n",
    "#   Creating a figure containing a single axes \n",
    "fig, ax = plt.subplots(figsize=(12, 5))\n",
    "\n",
    "#   plot some data on the Axes\n",
    "p = ax.bar(x=barx, height=bary, width=.7)\n",
    "ax.bar_label(p, fmt='{:,.0f}')    # add bar label\n",
    "\n",
    "#   labels\n",
    "ax.set_xlabel('營業縣市', fontsize=16)\n",
    "ax.set_ylabel('筆數', fontsize=16)\n",
    "\n",
    "#   title\n",
    "ax.set_title('資料分布', fontsize=20, weight='bold')\n",
    "\n",
    "fig.tight_layout()\n",
    "\n",
    "plt.show()\n"
   ]
  }
 ],
 "metadata": {
  "kernelspec": {
   "display_name": "Python 3",
   "language": "python",
   "name": "python3"
  },
  "language_info": {
   "codemirror_mode": {
    "name": "ipython",
    "version": 3
   },
   "file_extension": ".py",
   "mimetype": "text/x-python",
   "name": "python",
   "nbconvert_exporter": "python",
   "pygments_lexer": "ipython3",
   "version": "3.11.5"
  }
 },
 "nbformat": 4,
 "nbformat_minor": 5
}
