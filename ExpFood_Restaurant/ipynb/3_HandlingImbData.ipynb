{
 "cells": [
  {
   "cell_type": "markdown",
   "id": "ff7ab33e",
   "metadata": {},
   "source": [
    "# 餐飲業逾期風險預測模型\n",
    "由我國「應建立食品追溯追蹤系統之食品業者」規定可知，須申報食品流向資料於本署非追不可系統多為製造與輸入業者，對於販售與餐飲業者則無相關資料可用，無法推算其庫存，進而評估其是否可能存放逾期食品。因此，針對販售與餐飲業者，則透過後市場稽查資料及業者相關資訊，嘗試以監督式學習方法建構業者逾期食品違規風險預測模型，而此處為餐飲業資料的建模評估。"
   ]
  },
  {
   "cell_type": "markdown",
   "id": "878a7134",
   "metadata": {},
   "source": [
    "### 程式架構\n",
    "* 資料前處理(Preprocessing.ipynb)\n",
    "* 特徵篩選(FeatureSelection.ipynb)\n",
    "* **資料不平衡處理(HandlingImbData.ipynb)**\n",
    "* 模型配適(ModelFitting.ipynb)"
   ]
  },
  {
   "cell_type": "markdown",
   "id": "dcb5ae88",
   "metadata": {},
   "source": [
    "## 資料不平衡處理"
   ]
  },
  {
   "cell_type": "markdown",
   "id": "2ded152c",
   "metadata": {},
   "source": [
    "### Package"
   ]
  },
  {
   "cell_type": "code",
   "execution_count": 1,
   "id": "ac8021f6",
   "metadata": {},
   "outputs": [],
   "source": [
    "import numpy as np\n",
    "import pandas as pd\n",
    "import matplotlib.pyplot as plt\n",
    "\n",
    "from imblearn.over_sampling import SMOTENC"
   ]
  },
  {
   "cell_type": "markdown",
   "id": "fea531ea",
   "metadata": {},
   "source": [
    "### Data Import"
   ]
  },
  {
   "cell_type": "code",
   "execution_count": 2,
   "id": "b8a8627b",
   "metadata": {},
   "outputs": [
    {
     "name": "stdout",
     "output_type": "stream",
     "text": [
      "dict_keys(['others', 'train', 'test', 'feature_selection'])\n"
     ]
    }
   ],
   "source": [
    "dict_dfs_fs = pd.read_pickle('../data/data_fs.pkl')\n",
    "print(dict_dfs_fs.keys())"
   ]
  },
  {
   "cell_type": "code",
   "execution_count": 3,
   "id": "06b4572b",
   "metadata": {},
   "outputs": [],
   "source": [
    "X_train = dict_dfs_fs['train']['X_select']\n",
    "y_train = dict_dfs_fs['train']['y']"
   ]
  },
  {
   "cell_type": "markdown",
   "id": "d3f3c70a",
   "metadata": {},
   "source": [
    "### Data Visualize"
   ]
  },
  {
   "cell_type": "code",
   "execution_count": 4,
   "id": "acc183e0",
   "metadata": {},
   "outputs": [],
   "source": [
    "# 設定字型（以顯示中文）\n",
    "plt.rcParams['font.family'] = 'Noto Sans TC'    # 思源黑體"
   ]
  },
  {
   "cell_type": "code",
   "execution_count": 5,
   "id": "4cff9442",
   "metadata": {},
   "outputs": [
    {
     "data": {
      "image/png": "[encoded data removed]",
      "text/plain": [
       "<Figure size 400x400 with 1 Axes>"
      ]
     },
     "metadata": {},
     "output_type": "display_data"
    }
   ],
   "source": [
    "# 以 pie chart 呈現目標變數占比\n",
    "def plot_pie(ser_cat): \n",
    "    # Step 1. prepare data\n",
    "    df_count = ser_cat.value_counts()\n",
    "    labels = df_count.index.astype('str').tolist()\n",
    "    sizes = df_count.values\n",
    "    total = sizes.sum()\n",
    "\n",
    "    # Step 2. plot pie chart\n",
    "    fig, ax = plt.subplots(figsize=(4, 4))\n",
    "    wedges, texts, autotexts = ax.pie(\n",
    "        x=sizes, \n",
    "        autopct=lambda pct: f'{pct: .2f}%', \n",
    "        textprops=dict(color='w', size=16), \n",
    "        startangle=90\n",
    "    )\n",
    "\n",
    "    # Step 3. add legend\n",
    "    # legend_labels = [\n",
    "    #     f'{l}: {t.get_text()}({s}/{total})' \n",
    "    #     for l, s, t in zip(labels, sizes, autotexts)\n",
    "    # ]\n",
    "    legend_labels = [f'{l} (n={s})' for l, s in zip(labels, sizes)]\n",
    "    ax.legend(\n",
    "        handles=wedges, labels=legend_labels, \n",
    "        bbox_to_anchor=(0.5, 0.5), \n",
    "        loc='center left'\n",
    "    )\n",
    "\n",
    "    # Step 4. layout\n",
    "    ax.set_title(df_count.index.name, fontsize=20)\n",
    "    fig.tight_layout()\n",
    "    return fig, ax\n",
    "\n",
    "plot_pie(y_train)\n",
    "plt.show()"
   ]
  },
  {
   "cell_type": "markdown",
   "id": "c1fb0eb3",
   "metadata": {},
   "source": [
    "### Handling Imbalanced Dataset\n",
    "以 SMOTENC 進行資..."
   ]
  },
  {
   "cell_type": "markdown",
   "id": "7e0b503b",
   "metadata": {},
   "source": [
    "* 合成樣本前若先將類別特徵做Dummy Encoding，可能出現多個子特徵同時為1之情況。"
   ]
  },
  {
   "cell_type": "code",
   "execution_count": 6,
   "id": "067b76df",
   "metadata": {},
   "outputs": [],
   "source": [
    "# 先將數值資料轉為 float ，合成樣本後再四捨五入，避免向零截斷（truncation toward zero）\n",
    "cols_num = X_train.select_dtypes(include='uint32').columns.tolist()\n",
    "X_sm0 = pd.concat([X_train[cols_num].astype('float32'), X_train.drop(cols_num, axis=1)], axis=1)"
   ]
  },
  {
   "cell_type": "code",
   "execution_count": 7,
   "id": "403192a6",
   "metadata": {},
   "outputs": [],
   "source": [
    "# 類別特徵名稱\n",
    "cols_cat = X_sm0.drop(cols_num, axis=1).columns.tolist()\n",
    "\n",
    "# 建立 SMOTENC 物件\n",
    "sm = SMOTENC(\n",
    "    categorical_features=cols_cat,    # specify categorical features\n",
    "    sampling_strategy=3/7,    # ratio of minor/major\n",
    "    random_state=12\n",
    ")\n",
    "\n",
    "# 合成樣本（加在原始資料後）\n",
    "X_sm, y_sm = sm.fit_resample(X=X_sm0, y=y_train)\n",
    "X_sm = X_sm.round(0)    # 四捨五入數值資料"
   ]
  },
  {
   "cell_type": "code",
   "execution_count": 8,
   "id": "be0bb2f4",
   "metadata": {},
   "outputs": [],
   "source": [
    "del cols_num, cols_cat, X_sm0, sm"
   ]
  },
  {
   "cell_type": "code",
   "execution_count": 12,
   "id": "423fba54",
   "metadata": {},
   "outputs": [],
   "source": [
    "dict_dfs_fs['train']['X_smote'] = X_sm\n",
    "dict_dfs_fs['train']['y_smote'] = y_sm\n",
    "pd.to_pickle(dict_dfs_fs, '../data/data_sm.pkl')"
   ]
  }
 ],
 "metadata": {
  "kernelspec": {
   "display_name": "Python 3",
   "language": "python",
   "name": "python3"
  },
  "language_info": {
   "codemirror_mode": {
    "name": "ipython",
    "version": 3
   },
   "file_extension": ".py",
   "mimetype": "text/x-python",
   "name": "python",
   "nbconvert_exporter": "python",
   "pygments_lexer": "ipython3",
   "version": "3.11.5"
  }
 },
 "nbformat": 4,
 "nbformat_minor": 5
}
