{
 "cells": [
  {
   "cell_type": "markdown",
   "id": "554109a1",
   "metadata": {},
   "source": [
    "# 餐飲業逾期風險預測模型\n",
    "由我國「應建立食品追溯追蹤系統之食品業者」規定可知，須申報食品流向資料於本署非追不可系統多為製造與輸入業者，對於販售與餐飲業者則無相關資料可用，無法推算其庫存，進而評估其是否可能存放逾期食品。因此，針對販售與餐飲業者，則透過後市場稽查資料及業者相關資訊，嘗試以監督式學習方法建構業者逾期食品違規風險預測模型，而此處為餐飲業資料的建模評估。"
   ]
  },
  {
   "cell_type": "markdown",
   "id": "10969f0b",
   "metadata": {},
   "source": [
    "### 程式架構\n",
    "* 資料前處理(Preprocessing.ipynb)\n",
    "* **特徵篩選(FeatureSelection.ipynb)**\n",
    "* 資料不平衡處理(HandlingImbData.ipynb)\n",
    "* 模型配適(ModelFitting.ipynb)"
   ]
  },
  {
   "cell_type": "markdown",
   "id": "f343303d",
   "metadata": {},
   "source": [
    "## 特徵篩選"
   ]
  },
  {
   "cell_type": "markdown",
   "id": "ff7080f7",
   "metadata": {},
   "source": [
    "### Package"
   ]
  },
  {
   "cell_type": "code",
   "execution_count": null,
   "id": "f300799b",
   "metadata": {},
   "outputs": [],
   "source": [
    "import numpy as np \n",
    "import pandas as pd\n",
    "\n",
    "from sklearn.preprocessing import MinMaxScaler    # 特徵縮放\n",
    "# from sklearn.feature_selection import VarianceThreshold    # 移除低變異特徵"
   ]
  },
  {
   "cell_type": "markdown",
   "id": "2b79b260",
   "metadata": {},
   "source": [
    "### Data Import"
   ]
  },
  {
   "cell_type": "code",
   "execution_count": 2,
   "id": "6706f3c6",
   "metadata": {},
   "outputs": [
    {
     "data": {
      "text/plain": [
       "dict_keys(['others', 'train', 'test'])"
      ]
     },
     "execution_count": 2,
     "metadata": {},
     "output_type": "execute_result"
    }
   ],
   "source": [
    "dict_dfs_pre = pd.read_pickle('../data/data_pre.pkl')\n",
    "dict_dfs_pre.keys()"
   ]
  },
  {
   "cell_type": "code",
   "execution_count": 3,
   "id": "b7c8e861",
   "metadata": {},
   "outputs": [],
   "source": [
    "X_train = dict_dfs_pre['train']['X'].copy()    # 避免更動原始資料"
   ]
  },
  {
   "cell_type": "markdown",
   "id": "ed7f8afb",
   "metadata": {},
   "source": [
    "### Remove Low-variance Features\n",
    "<div>移除訓練集低變異特徵，包含：</div>\n",
    "<ul>\n",
    "    <li>類別特徵：計算樣本數最多類別占比，排除高於目標最多類別占比之特徵。</li>\n",
    "    <li>數值特徵：縮放至0~1，計算變異數，排除高於目標變異數之特徵。</li>\n",
    "</ul>"
   ]
  },
  {
   "cell_type": "markdown",
   "id": "658310ac",
   "metadata": {},
   "source": [
    "##### 類別特徵：計算樣本數最多類別占比"
   ]
  },
  {
   "cell_type": "code",
   "execution_count": 4,
   "id": "243ec139",
   "metadata": {},
   "outputs": [
    {
     "name": "stdout",
     "output_type": "stream",
     "text": [
      "閾值： 0.9947\n"
     ]
    }
   ],
   "source": [
    "# 占比計算與篩選結果\n",
    "thres_cat = 1 - dict_dfs_pre['train']['y'].mean()    # 門檻：非違規案件占比\n",
    "cols_cat = list(X_train.select_dtypes(include=['category', 'uint8']).columns)    # 名稱\n",
    "topRatio_cat = [X_train[col].value_counts().max()/X_train.shape[0] for col in cols_cat]    # 占比\n",
    "\n",
    "df_proxyVTRsl = pd.DataFrame(\n",
    "    data={\n",
    "        '特徵': cols_cat, \n",
    "        '最多類別占比': np.array(topRatio_cat).round(decimals=4), \n",
    "        '是否排除': [tr > thres_cat for tr in topRatio_cat]\n",
    "    }\n",
    ")\n",
    "print(f'閾值：{thres_cat: .4f}')\n"
   ]
  },
  {
   "cell_type": "code",
   "execution_count": 5,
   "id": "23d29b4d",
   "metadata": {},
   "outputs": [],
   "source": [
    "del cols_cat, topRatio_cat"
   ]
  },
  {
   "cell_type": "markdown",
   "id": "2a66236f",
   "metadata": {},
   "source": [
    "##### 數值特徵：計算變異數"
   ]
  },
  {
   "cell_type": "code",
   "execution_count": 6,
   "id": "42c2d96f",
   "metadata": {},
   "outputs": [
    {
     "name": "stdout",
     "output_type": "stream",
     "text": [
      "閾值： 0.0053\n"
     ]
    }
   ],
   "source": [
    "# 變異數計算與篩選結果\n",
    "thres_num = dict_dfs_pre['train']['y'].var(ddof=0)    # ddof=0，標準一致即可\n",
    "cols_num = list(X_train.select_dtypes(include='uint32').columns)\n",
    "\n",
    "#   特徵縮放至0~1\n",
    "mms = MinMaxScaler().set_output(transform='pandas')    # 建立（初始化）MinMaxScaler物件：物件名稱=類別名稱()\n",
    "X_mms = mms.fit_transform(X_train[cols_num])\n",
    "var_num = list(X_mms.var(ddof=0))\n",
    "\n",
    "#   篩選結果\n",
    "df_VTRsl = pd.DataFrame(\n",
    "    data={\n",
    "        '特徵': cols_num, \n",
    "        '變異數': var_num, \n",
    "        '是否排除': [var < thres_num for var in var_num], \n",
    "    }\n",
    ")\n",
    "print(f'閾值：{thres_num: .4f}')\n"
   ]
  },
  {
   "cell_type": "code",
   "execution_count": 7,
   "id": "085e25ba",
   "metadata": {},
   "outputs": [],
   "source": [
    "del cols_num, mms, X_mms, var_num"
   ]
  },
  {
   "cell_type": "markdown",
   "id": "71f5527e",
   "metadata": {},
   "source": [
    "##### 特徵篩選"
   ]
  },
  {
   "cell_type": "code",
   "execution_count": 8,
   "id": "2fc45316",
   "metadata": {},
   "outputs": [],
   "source": [
    "cols_rm = (\n",
    "   list(df_proxyVTRsl[df_proxyVTRsl['是否排除']]['特徵']) + \n",
    "   list(df_VTRsl[df_VTRsl['是否排除']]['特徵'])\n",
    ") \n",
    "\n",
    "# 訓練集特徵篩選\n",
    "X_train_select = X_train.drop(columns=cols_rm)\n",
    "\n",
    "# 測試集不得參與特徵篩選流程，直接套用篩選結果\n",
    "X_test_select = dict_dfs_pre['test']['X'].drop(columns=cols_rm)"
   ]
  },
  {
   "cell_type": "markdown",
   "id": "09cafd8d",
   "metadata": {},
   "source": [
    "### Data Save"
   ]
  },
  {
   "cell_type": "code",
   "execution_count": null,
   "id": "4398ab88",
   "metadata": {},
   "outputs": [],
   "source": [
    "# X\n",
    "dict_dfs_pre['train']['X_select'] = X_train_select\n",
    "dict_dfs_pre['test']['X_select'] = X_test_select\n",
    "\n",
    "# result of feature selection\n",
    "dict_vt = {\n",
    "    'threshold_cat': thres_cat, 'result_cat': df_proxyVTRsl, \n",
    "    'threshold_num': thres_num, 'result_num': df_VTRsl, \n",
    "}\n",
    "dict_dfs_pre['feature_selection'] = dict_vt\n",
    "\n",
    "# serialization\n",
    "# pd.to_pickle(dict_dfs_pre, '../data/data_fs.pkl')"
   ]
  },
  {
   "cell_type": "code",
   "execution_count": null,
   "id": "2cfe7074",
   "metadata": {},
   "outputs": [],
   "source": []
  },
  {
   "cell_type": "code",
   "execution_count": null,
   "id": "e973598d",
   "metadata": {},
   "outputs": [],
   "source": []
  },
  {
   "cell_type": "code",
   "execution_count": null,
   "id": "77b9a10f",
   "metadata": {},
   "outputs": [],
   "source": []
  },
  {
   "cell_type": "markdown",
   "id": "3e4416e7",
   "metadata": {},
   "source": [
    "##### 特徵編碼"
   ]
  },
  {
   "cell_type": "code",
   "execution_count": 10,
   "id": "1b08a50b",
   "metadata": {},
   "outputs": [],
   "source": [
    "# # 各編碼所使用特徵名稱\n",
    "# cols_to_DumEnc = [col for col in X_train.select_dtypes(include='category').columns if not X_train[col].dtype.ordered]\n",
    "# cols_to_OrdEnc = [col for col in X_train.select_dtypes(include='category').columns if X_train[col].dtype.ordered]\n",
    "\n",
    "# # 編碼流程\n",
    "# enc_trans = make_column_transformer(\n",
    "#     (OneHotEncoder(drop='first', dtype='uint8', sparse_output=False), cols_to_DumEnc),    # dummy encoding\n",
    "#     (OrdinalEncoder(dtype='uint8'), cols_to_OrdEnc),    # uint8: 0 to (2**8)-1 (recommend)\n",
    "#     remainder='passthrough',    # 略過剩餘欄位\n",
    "#     force_int_remainder_cols=False,    # corresponds to the `remainder` (default: True)\n",
    "#     verbose_feature_names_out=False    # 去掉 transformer 前綴\n",
    "# ).set_output(transform='pandas')    #輸出 dataframe\n",
    "\n",
    "# # enc_trans.fit(X_train)    # fit training set\n",
    "# # X_enc = enc_trans.transform(X_train)    # transform training set\n",
    "\n",
    "# X_enc = enc_trans.fit_transform(X_train)"
   ]
  }
 ],
 "metadata": {
  "kernelspec": {
   "display_name": "Python 3",
   "language": "python",
   "name": "python3"
  },
  "language_info": {
   "codemirror_mode": {
    "name": "ipython",
    "version": 3
   },
   "file_extension": ".py",
   "mimetype": "text/x-python",
   "name": "python",
   "nbconvert_exporter": "python",
   "pygments_lexer": "ipython3",
   "version": "3.11.5"
  }
 },
 "nbformat": 4,
 "nbformat_minor": 5
}
