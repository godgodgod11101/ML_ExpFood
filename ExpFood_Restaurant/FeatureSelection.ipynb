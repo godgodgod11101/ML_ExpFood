{
 "cells": [
  {
   "cell_type": "code",
   "execution_count": 1,
   "id": "f300799b",
   "metadata": {},
   "outputs": [],
   "source": [
    "import numpy as np \n",
    "import pandas as pd\n",
    "\n",
    "from sklearn.preprocessing import MinMaxScaler, OneHotEncoder, OrdinalEncoder    # 特徵縮放、編碼，為計算其變異數\n",
    "from sklearn.compose import make_column_transformer    # 建立流程\n",
    "from sklearn.feature_selection import VarianceThreshold    # 移除低變異特徵"
   ]
  },
  {
   "cell_type": "markdown",
   "id": "2b79b260",
   "metadata": {},
   "source": [
    "### Data Import"
   ]
  },
  {
   "cell_type": "code",
   "execution_count": 2,
   "id": "6706f3c6",
   "metadata": {},
   "outputs": [
    {
     "data": {
      "text/plain": [
       "dict_keys(['target', 'features', 'others', 'features_pre'])"
      ]
     },
     "execution_count": 2,
     "metadata": {},
     "output_type": "execute_result"
    }
   ],
   "source": [
    "dict_df_pre = pd.read_pickle('data_pre.pkl')\n",
    "dict_df_pre.keys()"
   ]
  },
  {
   "cell_type": "code",
   "execution_count": 3,
   "id": "b7c8e861",
   "metadata": {},
   "outputs": [],
   "source": [
    "X = dict_df_pre['features_pre'].copy()"
   ]
  },
  {
   "cell_type": "markdown",
   "id": "ed7f8afb",
   "metadata": {},
   "source": [
    "### Remove Low-variance Features by Variance Threshold"
   ]
  },
  {
   "cell_type": "markdown",
   "id": "3e4416e7",
   "metadata": {},
   "source": [
    "* 特徵編碼"
   ]
  },
  {
   "cell_type": "code",
   "execution_count": 4,
   "id": "1b08a50b",
   "metadata": {},
   "outputs": [],
   "source": [
    "# 各編碼所使用特徵名稱\n",
    "\n",
    "cols_to_DumEnc = [col for col in X.select_dtypes(include='category').columns if not X[col].dtype.ordered]\n",
    "cols_to_OrdEnc = [col for col in X.select_dtypes(include='category').columns if X[col].dtype.ordered]\n",
    "\n",
    "# 編碼流程\n",
    "col_trans = make_column_transformer(\n",
    "    \n",
    "    (OneHotEncoder(drop='first', dtype='uint8', sparse_output=False), cols_to_DumEnc),    # dummy encoding\n",
    "    (OrdinalEncoder(dtype='uint8'), cols_to_OrdEnc),    # uint8: 0 to (2**8)-1 (recommend)\n",
    "    \n",
    "    remainder='passthrough',    # 略過剩餘欄位\n",
    "    verbose_feature_names_out=False    # 去掉 transformer 前綴\n",
    ").set_output(transform='pandas')    #輸出 dataframe\n",
    "\n",
    "# 執行編碼\n",
    "X_enc = col_trans.fit_transform(X)"
   ]
  },
  {
   "cell_type": "markdown",
   "id": "accc912c",
   "metadata": {},
   "source": [
    "* 特徵縮放"
   ]
  },
  {
   "cell_type": "code",
   "execution_count": 5,
   "id": "5ef2aa2a",
   "metadata": {},
   "outputs": [],
   "source": [
    "# 縮放特徵名稱\n",
    "cols_to_scale = list(X_enc.select_dtypes(include='uint32').columns) + cols_to_OrdEnc\n",
    "\n",
    "# 建立 MinMaxScaler 物件\n",
    "mms = MinMaxScaler(feature_range=(0, 1)).set_output(transform='pandas')    # feature_range=(0, 1) (default)\n",
    "\n",
    "# 執行特徵縮放\n",
    "X_scale = mms.fit_transform(X_enc[cols_to_scale]).astype('float32')\n",
    "\n",
    "X_vt0 = pd.concat([X_scale, X_enc.drop(cols_to_scale, axis=1)], axis=1)"
   ]
  },
  {
   "cell_type": "code",
   "execution_count": 6,
   "id": "7c8cd177",
   "metadata": {},
   "outputs": [],
   "source": [
    "del X, cols_to_DumEnc, cols_to_OrdEnc, col_trans, mms, X_scale"
   ]
  },
  {
   "cell_type": "markdown",
   "id": "9ab29114",
   "metadata": {},
   "source": [
    "* 特徵篩選"
   ]
  },
  {
   "cell_type": "code",
   "execution_count": 7,
   "id": "6376907a",
   "metadata": {},
   "outputs": [],
   "source": [
    "# 以查獲逾期食品案件比例作為特徵篩選門檻\n",
    "t = dict_df_pre['target'].mean()\n",
    "\n",
    "# 建立（初始化） VarianceThreshold 物件：物件名稱 = 類別名稱()\n",
    "vt = VarianceThreshold(threshold=t).set_output(transform='pandas')    # default 0.0\n",
    "\n",
    "# 執行篩選\n",
    "X_vt = vt.fit_transform(X_vt0)"
   ]
  },
  {
   "cell_type": "code",
   "execution_count": 8,
   "id": "e881d8ee",
   "metadata": {},
   "outputs": [
    {
     "name": "stdout",
     "output_type": "stream",
     "text": [
      "variance threshold: 0.0054\n"
     ]
    }
   ],
   "source": [
    "print(f'variance threshold: {t:.4f}')\n",
    "\n",
    "# 特徵篩選及 variance 計算結果\n",
    "df_vtRsl = pd.DataFrame(\n",
    "    data = {\n",
    "        '特徵': list(X_vt0.columns), \n",
    "        '變異數': np.var(X_vt0, axis=0).round(decimals=4), \n",
    "        '是否排除': [False if c in X_vt.columns else True for c in X_vt0.columns]\n",
    "    }, \n",
    ")"
   ]
  },
  {
   "cell_type": "markdown",
   "id": "7f9ba2db",
   "metadata": {},
   "source": [
    "* 縮放特徵轉回原始特徵（SMOTE -> Standardization）"
   ]
  },
  {
   "cell_type": "code",
   "execution_count": 9,
   "id": "26851464",
   "metadata": {},
   "outputs": [],
   "source": [
    "X_select = pd.concat([X_enc[cols_to_scale], X_vt.drop(cols_to_scale, axis=1, errors='ignore')], axis=1)"
   ]
  },
  {
   "cell_type": "code",
   "execution_count": 10,
   "id": "b61d0c8c",
   "metadata": {},
   "outputs": [],
   "source": [
    "del cols_to_scale, X_enc, X_vt0, vt, X_vt"
   ]
  },
  {
   "cell_type": "markdown",
   "id": "09cafd8d",
   "metadata": {},
   "source": [
    "### Data Save"
   ]
  },
  {
   "cell_type": "code",
   "execution_count": null,
   "id": "4398ab88",
   "metadata": {},
   "outputs": [],
   "source": [
    "dict_df_pre['features_sel'] = X_select\n",
    "dict_df_pre['vt'] = t\n",
    "dict_df_pre['vt_result'] = df_vtRsl\n",
    "\n",
    "# pd.to_pickle(dict_df_pre, 'data_fs.pkl')"
   ]
  }
 ],
 "metadata": {
  "kernelspec": {
   "display_name": "Python 3",
   "language": "python",
   "name": "python3"
  },
  "language_info": {
   "codemirror_mode": {
    "name": "ipython",
    "version": 3
   },
   "file_extension": ".py",
   "mimetype": "text/x-python",
   "name": "python",
   "nbconvert_exporter": "python",
   "pygments_lexer": "ipython3",
   "version": "3.11.5"
  }
 },
 "nbformat": 4,
 "nbformat_minor": 5
}
