{
 "cells": [
  {
   "cell_type": "code",
   "execution_count": 1,
   "id": "f300799b",
   "metadata": {},
   "outputs": [],
   "source": [
    "import numpy as np \n",
    "import pandas as pd\n",
    "\n",
    "from sklearn.preprocessing import MinMaxScaler, OneHotEncoder, OrdinalEncoder    # 特徵縮放、編碼，為計算其變異數\n",
    "from sklearn.compose import make_column_transformer    # 建立流程\n",
    "from sklearn.feature_selection import VarianceThreshold    # 移除低變異特徵"
   ]
  },
  {
   "cell_type": "markdown",
   "id": "2b79b260",
   "metadata": {},
   "source": [
    "### Data Import"
   ]
  },
  {
   "cell_type": "code",
   "execution_count": 2,
   "id": "6706f3c6",
   "metadata": {},
   "outputs": [
    {
     "data": {
      "text/plain": [
       "dict_keys(['target', 'features', 'others', 'features_pre'])"
      ]
     },
     "execution_count": 2,
     "metadata": {},
     "output_type": "execute_result"
    }
   ],
   "source": [
    "dict_df_pre = pd.read_pickle('data_pre.pkl')\n",
    "dict_df_pre.keys()"
   ]
  },
  {
   "cell_type": "code",
   "execution_count": 3,
   "id": "b7c8e861",
   "metadata": {},
   "outputs": [],
   "source": [
    "X = dict_df_pre['features_pre'].copy()"
   ]
  },
  {
   "cell_type": "markdown",
   "id": "ed7f8afb",
   "metadata": {},
   "source": [
    "### Remove Low-variance Features by Variance Threshold"
   ]
  },
  {
   "cell_type": "code",
   "execution_count": 4,
   "id": "1b08a50b",
   "metadata": {},
   "outputs": [],
   "source": [
    "# 各編碼所使用特徵名稱\n",
    "cols_to_sca = X.select_dtypes(include='uint32').columns\n",
    "cols_to_DumEnc = [col for col in X.select_dtypes(include='category').columns if not X[col].dtype.ordered]\n",
    "cols_to_OrdEnc = [col for col in X.select_dtypes(include='category').columns if X[col].dtype.ordered]\n",
    "\n",
    "# 編碼流程\n",
    "col_trans = make_column_transformer(\n",
    "    (MinMaxScaler(feature_range=(0, 1)), cols_to_sca),    # feature_range=(0, 1) (default)\n",
    "    (OneHotEncoder(drop='first', dtype='uint8', sparse_output=False), cols_to_DumEnc),    # dummy encoding\n",
    "    (OrdinalEncoder(dtype='uint8'), cols_to_OrdEnc),    # uint8: 0 to (2**8)-1 (recommend)\n",
    "    remainder='passthrough',    # 略過剩餘欄位\n",
    "    verbose_feature_names_out=False    # 去掉 transformer 前綴\n",
    ").set_output(transform='pandas')    #輸出 dataframe\n",
    "\n",
    "# 執行編碼\n",
    "X_enc = col_trans.fit_transform(X)"
   ]
  },
  {
   "cell_type": "code",
   "execution_count": 5,
   "id": "6376907a",
   "metadata": {},
   "outputs": [],
   "source": [
    "# 以查獲逾期食品案件比例作為特徵篩選門檻\n",
    "t = dict_df_pre['target'].mean()\n",
    "\n",
    "# 建立（初始化） VarianceThreshold 物件：物件名稱 = 類別名稱()\n",
    "vt = VarianceThreshold(threshold=t).set_output(transform='pandas')    # default 0.0\n",
    "\n",
    "# 執行篩選\n",
    "X_vt = vt.fit_transform(X_enc)"
   ]
  },
  {
   "cell_type": "code",
   "execution_count": 6,
   "id": "e881d8ee",
   "metadata": {},
   "outputs": [
    {
     "name": "stdout",
     "output_type": "stream",
     "text": [
      "variance threshold: 0.0054\n"
     ]
    }
   ],
   "source": [
    "print(f'variance threshold: {t:.4f}')\n",
    "\n",
    "# 特徵篩選及 variance 計算結果\n",
    "df_vtRsl = pd.DataFrame(\n",
    "    data = {\n",
    "        '特徵': list(X_enc.columns), \n",
    "        '變異數': np.var(X_enc, axis=0).round(decimals=4), \n",
    "        '是否排除': [False if c in X_vt.columns else True for c in X_enc.columns]\n",
    "    }, \n",
    ")"
   ]
  },
  {
   "cell_type": "code",
   "execution_count": 7,
   "id": "95d6a7f2",
   "metadata": {},
   "outputs": [],
   "source": [
    "del cols_to_sca, cols_to_DumEnc, cols_to_OrdEnc, col_trans, vt, X_enc"
   ]
  },
  {
   "cell_type": "markdown",
   "id": "09cafd8d",
   "metadata": {},
   "source": [
    "### Data Save"
   ]
  },
  {
   "cell_type": "code",
   "execution_count": null,
   "id": "4398ab88",
   "metadata": {},
   "outputs": [],
   "source": [
    "dict_df_pre['features_sel'] = X_vt\n",
    "dict_df_pre['vt'] = t\n",
    "dict_df_pre['vt_result'] = df_vtRsl\n",
    "\n",
    "# pd.to_pickle(dict_df_pre, 'data_fs.pkl')"
   ]
  }
 ],
 "metadata": {
  "kernelspec": {
   "display_name": "Python 3",
   "language": "python",
   "name": "python3"
  },
  "language_info": {
   "codemirror_mode": {
    "name": "ipython",
    "version": 3
   },
   "file_extension": ".py",
   "mimetype": "text/x-python",
   "name": "python",
   "nbconvert_exporter": "python",
   "pygments_lexer": "ipython3",
   "version": "3.11.5"
  }
 },
 "nbformat": 4,
 "nbformat_minor": 5
}
