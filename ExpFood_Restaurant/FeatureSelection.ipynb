{
 "cells": [
  {
   "cell_type": "code",
   "execution_count": 1,
   "id": "f300799b",
   "metadata": {},
   "outputs": [],
   "source": [
    "import numpy as np \n",
    "import pandas as pd\n",
    "\n",
    "from sklearn.preprocessing import MinMaxScaler, OneHotEncoder    # 特徵縮放、編碼，為計算其變異數\n",
    "from sklearn.compose import make_column_transformer    # 建立流程\n",
    "from sklearn.feature_selection import VarianceThreshold    # 移除低變異特徵"
   ]
  },
  {
   "cell_type": "markdown",
   "id": "2b79b260",
   "metadata": {},
   "source": [
    "### Data Import"
   ]
  },
  {
   "cell_type": "code",
   "execution_count": 3,
   "id": "6706f3c6",
   "metadata": {},
   "outputs": [
    {
     "data": {
      "text/plain": [
       "dict_keys(['target', 'features', 'others', 'features_pre'])"
      ]
     },
     "execution_count": 3,
     "metadata": {},
     "output_type": "execute_result"
    }
   ],
   "source": [
    "dict_df_pre = pd.read_pickle('data_pre.pkl')\n",
    "dict_df_pre.keys()"
   ]
  },
  {
   "cell_type": "code",
   "execution_count": 4,
   "id": "b7c8e861",
   "metadata": {},
   "outputs": [],
   "source": [
    "X = dict_df_pre['features_pre'].copy()"
   ]
  },
  {
   "cell_type": "markdown",
   "id": "ed7f8afb",
   "metadata": {},
   "source": [
    "### Remove Low-variance Features by Variance Threshold"
   ]
  },
  {
   "cell_type": "code",
   "execution_count": null,
   "id": "1b08a50b",
   "metadata": {},
   "outputs": [],
   "source": []
  }
 ],
 "metadata": {
  "kernelspec": {
   "display_name": "Python 3",
   "language": "python",
   "name": "python3"
  },
  "language_info": {
   "codemirror_mode": {
    "name": "ipython",
    "version": 3
   },
   "file_extension": ".py",
   "mimetype": "text/x-python",
   "name": "python",
   "nbconvert_exporter": "python",
   "pygments_lexer": "ipython3",
   "version": "3.11.5"
  }
 },
 "nbformat": 4,
 "nbformat_minor": 5
}
