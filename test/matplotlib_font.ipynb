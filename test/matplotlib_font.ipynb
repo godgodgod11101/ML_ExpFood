{
 "cells": [
  {
   "cell_type": "code",
   "execution_count": null,
   "id": "c11e514a",
   "metadata": {},
   "outputs": [],
   "source": [
    "from matplotlib import font_manager"
   ]
  },
  {
   "cell_type": "code",
   "execution_count": null,
   "id": "88ea1eb7",
   "metadata": {},
   "outputs": [],
   "source": [
    "# 中文字體\n",
    "font_kw = ['Hei', 'Ming', 'Kai', 'Sun', 'Noto']\n",
    "\n",
    "for kw in font_kw:\n",
    "    for font in font_manager.fontManager.ttflist: \n",
    "        if kw in font.name: \n",
    "            print(f'{font.name}', end='||')\n",
    "    print()\n",
    "    "
   ]
  },
  {
   "cell_type": "code",
   "execution_count": 1,
   "id": "474c9d4c",
   "metadata": {},
   "outputs": [
    {
     "name": "stdout",
     "output_type": "stream",
     "text": [
      "實際使用字型： C:\\Python\\Python311\\Lib\\site-packages\\matplotlib\\mpl-data\\fonts\\ttf\\NotoSansTC-Regular.ttf\n"
     ]
    },
    {
     "data": {
      "image/png": "[encoded data removed]",
      "text/plain": [
       "<Figure size 640x480 with 1 Axes>"
      ]
     },
     "metadata": {},
     "output_type": "display_data"
    }
   ],
   "source": [
    "# 新增字型測試\n",
    "#   將字型檔案(如 NotoSansTC-Regular.ttf )放入 matplotlib\\mpl-data\\fonts\\ttf 內\n",
    "#   手動刪除 .matplotlib 內 fontlist-v390.json\n",
    "#   執行程式自動新增 fontlist-v390.json\n",
    "import matplotlib.pyplot as plt\n",
    "import matplotlib.font_manager as fm\n",
    "\n",
    "plt.rcParams['font.family'] = 'Noto Sans TC'\n",
    "\n",
    "fig, ax = plt.subplots()\n",
    "ax.set_title('測試', fontsize=16)\n",
    "\n",
    "# 找出實際使用的字型\n",
    "text_obj = ax.title\n",
    "font_path = fm.findfont(text_obj.get_fontproperties())\n",
    "print(\"實際使用字型：\", font_path)"
   ]
  }
 ],
 "metadata": {
  "kernelspec": {
   "display_name": "Python 3",
   "language": "python",
   "name": "python3"
  },
  "language_info": {
   "codemirror_mode": {
    "name": "ipython",
    "version": 3
   },
   "file_extension": ".py",
   "mimetype": "text/x-python",
   "name": "python",
   "nbconvert_exporter": "python",
   "pygments_lexer": "ipython3",
   "version": "3.11.5"
  }
 },
 "nbformat": 4,
 "nbformat_minor": 5
}
